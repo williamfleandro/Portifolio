{
  "nbformat": 4,
  "nbformat_minor": 0,
  "metadata": {
    "colab": {
      "provenance": []
    },
    "kernelspec": {
      "name": "python3",
      "display_name": "Python 3"
    },
    "language_info": {
      "name": "python"
    }
  },
  "cells": [
    {
      "cell_type": "markdown",
      "source": [
        "# Implemente o algoritmo de Backpropagation em uma rede MLP e o use para a classificação dos dados da Iris de Fisher."
      ],
      "metadata": {
        "id": "Wr7gLvm0f_HX"
      }
    },
    {
      "cell_type": "code",
      "execution_count": 125,
      "metadata": {
        "id": "bguLVrIvf9BM"
      },
      "outputs": [],
      "source": [
        "# Importando as Bibliotecas necesárias\n",
        "import pandas as pd\n",
        "import numpy as np\n",
        "import seaborn as sns\n",
        "import matplotlib.pyplot as plt\n",
        "\n",
        "from sklearn import datasets\n",
        "from sklearn.model_selection import train_test_split\n",
        "from sklearn.preprocessing import OneHotEncoder"
      ]
    },
    {
      "cell_type": "code",
      "source": [
        "# Função de ativação (sigmoide)\n",
        "def sigmoid(x):\n",
        "    return 1 / (1 + np.exp(-x))\n",
        "\n",
        "# Derivada da função sigmoide\n",
        "def sigmoid_derivative(x):\n",
        "    return x * (1 - x)\n",
        "\n",
        "# Função de normalização dos dados\n",
        "def normalize(X):\n",
        "    return (X - np.min(X, axis=0)) / (np.max(X, axis=0) - np.min(X, axis=0))\n",
        "\n",
        "# Classe MLP com Backpropagation\n",
        "class MLP:\n",
        "    def __init__(self, input_size, hidden_size, output_size, learning_rate=0.01):\n",
        "        # Inicializando os pesos e bias\n",
        "        self.learning_rate = learning_rate\n",
        "        self.weights_input_hidden = np.random.randn(input_size, hidden_size) * 0.1\n",
        "        self.weights_hidden_output = np.random.randn(hidden_size, output_size) * 0.1\n",
        "        self.bias_hidden = np.zeros((1, hidden_size))\n",
        "        self.bias_output = np.zeros((1, output_size))\n",
        "\n",
        "    def forward(self, X):\n",
        "        # Propagação para frente (cálculo das ativações)\n",
        "        self.z1 = np.dot(X, self.weights_input_hidden) + self.bias_hidden\n",
        "        self.a1 = sigmoid(self.z1)\n",
        "        self.z2 = np.dot(self.a1, self.weights_hidden_output) + self.bias_output\n",
        "        self.a2 = sigmoid(self.z2)\n",
        "        return self.a2\n",
        "\n",
        "    def backward(self, X, y, output):\n",
        "        # Retropropagação (cálculo dos gradientes)\n",
        "        m = y.shape[0]\n",
        "\n",
        "        # Erro da camada de saída\n",
        "        error_output = output - y\n",
        "        delta_output = error_output * sigmoid_derivative(output)\n",
        "\n",
        "        # Erro da camada oculta\n",
        "        error_hidden = np.dot(delta_output, self.weights_hidden_output.T)\n",
        "        delta_hidden = error_hidden * sigmoid_derivative(self.a1)\n",
        "\n",
        "        # Atualização dos pesos e bias\n",
        "        self.weights_hidden_output -= self.learning_rate * np.dot(self.a1.T, delta_output) / m\n",
        "        self.bias_output -= self.learning_rate * np.sum(delta_output, axis=0, keepdims=True) / m\n",
        "        self.weights_input_hidden -= self.learning_rate * np.dot(X.T, delta_hidden) / m\n",
        "        self.bias_hidden -= self.learning_rate * np.sum(delta_hidden, axis=0, keepdims=True) / m\n",
        "\n",
        "    def train(self, X, y, epochs=1000):\n",
        "        # Treinamento do modelo\n",
        "        for epoch in range(epochs):\n",
        "            output = self.forward(X)\n",
        "            y_encoded = self.one_hot_encode(y, output.shape[1])  # Usar rótulos inteiros diretamente\n",
        "            self.backward(X, y_encoded, output)\n",
        "\n",
        "            if epoch % 100 == 0:\n",
        "                loss = np.mean(np.square(y_encoded - output))\n",
        "                print(f'Epoch {epoch}, Loss: {loss}')\n",
        "\n",
        "    def predict(self, X):\n",
        "        # Fazendo previsões\n",
        "        output = self.forward(X)\n",
        "        return np.argmax(output, axis=1)\n",
        "\n",
        "    def one_hot_encode(self, y, num_classes):\n",
        "        # Função para codificar os rótulos como one-hot manualmente\n",
        "        one_hot = np.zeros((y.size, num_classes))\n",
        "        one_hot[np.arange(y.size), y] = 1\n",
        "        return one_hot\n",
        "\n",
        "# Preparação dos dados Iris\n",
        "def prepare_iris_data():\n",
        "    # Carrega o dataset Iris\n",
        "    iris = datasets.load_iris()\n",
        "    X = iris.data\n",
        "    y = iris.target\n",
        "\n",
        "    # Normalizando os dados de entrada\n",
        "    X = normalize(X)\n",
        "\n",
        "    # Dividindo em treino e teste\n",
        "    X_train, X_test, y_train, y_test = train_test_split(X, y, test_size=0.2, random_state=42)\n",
        "    return X_train, X_test, y_train, y_test\n",
        "\n",
        "# Treinando e avaliando a rede MLP no dataset Iris\n",
        "if __name__ == \"__main__\":\n",
        "    # Preparar os dados\n",
        "    X_train, X_test, y_train, y_test = prepare_iris_data()\n",
        "\n",
        "    # Instanciar o modelo\n",
        "    mlp = MLP(input_size=4, hidden_size=9, output_size=3, learning_rate=0.1)\n",
        "\n",
        "    # Treinar o modelo\n",
        "    mlp.train(X_train, y_train, epochs=1000)\n",
        "\n",
        "    # Fazer predições no conjunto de teste\n",
        "    predictions = mlp.predict(X_test)\n",
        "\n",
        "    # Avaliar a acurácia\n",
        "    accuracy = np.mean(predictions == y_test)\n",
        "    print(f'Acurácia: {accuracy * 100:.2f}%')\n"
      ],
      "metadata": {
        "colab": {
          "base_uri": "https://localhost:8080/"
        },
        "id": "TwwS-eBm9x2g",
        "outputId": "923b2256-ed3d-4ea2-caa0-4ae2504e2157"
      },
      "execution_count": 121,
      "outputs": [
        {
          "output_type": "stream",
          "name": "stdout",
          "text": [
            "Epoch 0, Loss: 0.2520193152361384\n",
            "Epoch 100, Loss: 0.2222451047883735\n",
            "Epoch 200, Loss: 0.22136378081447247\n",
            "Epoch 300, Loss: 0.2210059659304041\n",
            "Epoch 400, Loss: 0.22057472317268811\n",
            "Epoch 500, Loss: 0.2200191460499697\n",
            "Epoch 600, Loss: 0.21929690061069723\n",
            "Epoch 700, Loss: 0.2183556270852969\n",
            "Epoch 800, Loss: 0.21713036663590685\n",
            "Epoch 900, Loss: 0.21554205419548872\n",
            "Acurácia: 93.33%\n"
          ]
        }
      ]
    },
    {
      "cell_type": "code",
      "source": [
        "# Podemos calcular a matriz de confusão para avaliar o desempenho do modelo\n",
        "from sklearn.metrics import confusion_matrix, classification_report\n",
        "\n",
        "cm = confusion_matrix(y_test, predictions)\n",
        "print(\"\\nMatriz de Confusão:\")\n",
        "print(cm)\n",
        "\n",
        "# Imprimindo o relatório de classificação com precisão, recall e F1-score\n",
        "print(\"\\nRelatório de Classificação:\")\n",
        "print(classification_report(y_test, predictions))\n"
      ],
      "metadata": {
        "colab": {
          "base_uri": "https://localhost:8080/"
        },
        "id": "8lRqD8ngUUND",
        "outputId": "6b33b7a9-4637-456c-c09a-6efc5bf95a34"
      },
      "execution_count": 142,
      "outputs": [
        {
          "output_type": "stream",
          "name": "stdout",
          "text": [
            "\n",
            "Matriz de Confusão:\n",
            "[[10  0  0]\n",
            " [ 0  9  0]\n",
            " [ 0  2  9]]\n",
            "\n",
            "Relatório de Classificação:\n",
            "              precision    recall  f1-score   support\n",
            "\n",
            "           0       1.00      1.00      1.00        10\n",
            "           1       0.82      1.00      0.90         9\n",
            "           2       1.00      0.82      0.90        11\n",
            "\n",
            "    accuracy                           0.93        30\n",
            "   macro avg       0.94      0.94      0.93        30\n",
            "weighted avg       0.95      0.93      0.93        30\n",
            "\n"
          ]
        }
      ]
    },
    {
      "cell_type": "code",
      "source": [
        "plt.figure(figsize=(10, 8))\n",
        "#sns.heatmap(cm, annot=True, fmt='g', cmap='Oranges', annot_kws={\"size\": 20})  # Aumenta o tamanho da fonte das anotações\n",
        "\n",
        "# Nomes das classes\n",
        "class_names = ['Setosa', 'Versicolor', 'Virginica']\n",
        "\n",
        "# Gráfico da matriz de confusão com os nomes das classes\n",
        "plt.figure(figsize=(10, 8))\n",
        "sns.heatmap(cm, annot=True, fmt='g', cmap='Oranges', annot_kws={\"size\": 20},\n",
        "            xticklabels=class_names, yticklabels=class_names)  # Adiciona os nomes das classes\n",
        "\n",
        "plt.xlabel('Predição', fontsize=20)\n",
        "plt.ylabel('Valor Real', fontsize=20)\n",
        "plt.title('Matriz de Confusão', fontsize=20)\n",
        "plt.show()\n"
      ],
      "metadata": {
        "colab": {
          "base_uri": "https://localhost:8080/",
          "height": 758
        },
        "id": "hKCoYK1WUWg0",
        "outputId": "28ab4da4-effc-4069-b0f6-14b2f64c162c"
      },
      "execution_count": 143,
      "outputs": [
        {
          "output_type": "display_data",
          "data": {
            "text/plain": [
              "<Figure size 1000x800 with 0 Axes>"
            ]
          },
          "metadata": {}
        },
        {
          "output_type": "display_data",
          "data": {
            "text/plain": [
              "<Figure size 1000x800 with 2 Axes>"
            ],
            "image/png": "[encoded data removed]"
          },
          "metadata": {}
        }
      ]
    },
    {
      "cell_type": "markdown",
      "source": [
        "# Perguntas básicas da MLP:\n",
        "\n",
        "- Quantas entradas? 4\n",
        "- Quantas saídas? 3\n",
        "- Quantas camadas escondidas? 9\n",
        "- Quantos neurônios na(s) camada(s) escondida(s)? 4 * 9 = 37 neurônios\n",
        "\n",
        "-  Como separar os dados de treinamento e teste? Usar train_test_split do sklearn, neste caso foi 80 x 20.\n",
        "\n",
        "-  Como verificar a qualidade do treinamento? Neste caso usei o relatório de classificação com precisão, recall e F1-score e a Matriz de Confusão."
      ],
      "metadata": {
        "id": "fbmrOrJ-Q8Nu"
      }
    }
  ]
}