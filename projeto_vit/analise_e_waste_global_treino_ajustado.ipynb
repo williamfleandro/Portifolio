{
 "cells": [
  {
   "cell_type": "markdown",
   "metadata": {
    "id": "AFN2sTBslvAI"
   },
   "source": [
    "# 🌍 Análise Global de Resíduos Eletrônicos (E-Waste)\n",
    "Este notebook apresenta uma análise da geração, reciclagem e impacto ambiental/financeiro dos resíduos eletrônicos com base no relatório Global E-Waste Monitor 2024."
   ]
  },
  {
   "cell_type": "code",
   "execution_count": 7,
   "metadata": {
    "id": "tvwwoRci2O2h"
   },
   "outputs": [],
   "source": [
    "# Importacao de bibliotecas\n",
    "import os\n",
    "import torch\n",
    "import torch.nn as nn\n",
    "from torchvision import datasets, transforms\n",
    "from torch.utils.data import DataLoader\n",
    "from timm import create_model\n",
    "from sklearn.metrics import classification_report\n",
    "import time\n",
    "import matplotlib.pyplot as plt"
   ]
  },
  {
   "cell_type": "markdown",
   "metadata": {
    "id": "p20uPNZxGRUP"
   },
   "source": [
    "# Categorização das Imagens"
   ]
  },
  {
   "cell_type": "code",
   "execution_count": null,
   "metadata": {
    "id": "0YuEwXyOF-nl"
   },
   "outputs": [],
   "source": [
    "#from google.colab import drive\n",
    "#import os\n",
    "\n",
    "# 1. Montar o Google Drive\n",
    "#drive.mount('/content/drive')\n",
    "#print(\"✅ Google Drive montado!\")\n",
    "\n",
    "# 2. Caminho raiz da pasta que deseja processar\n",
    "#base_dir = input(\"📁 Caminho da pasta (ex: /content/drive/MyDrive/Datasets/imagens_placas/Notebook): \").strip()\n",
    "\n",
    "# 3. Extensões válidas\n",
    "#EXTENSOES_VALIDAS = ('.jpg', '.jpeg', '.png')\n",
    "\n",
    "# 4. Função para renomear arquivos em uma pasta\n",
    "#def renomear_em_pasta(pasta_path, prefixo):\n",
    "#    arquivos = sorted([\n",
    "#        f for f in os.listdir(pasta_path)\n",
    "#        if f.lower().endswith(EXTENSOES_VALIDAS)\n",
    "#    ])\n",
    "#    for idx, nome_antigo in enumerate(arquivos, start=1):\n",
    "#        extensao = os.path.splitext(nome_antigo)[1].lower()\n",
    "#        novo_nome = f\"{prefixo}{idx:02}{extensao}\"\n",
    "#        caminho_antigo = os.path.join(pasta_path, nome_antigo)\n",
    "#        caminho_novo = os.path.join(pasta_path, novo_nome)\n",
    "#        try:\n",
    "#            os.rename(caminho_antigo, caminho_novo)\n",
    "#            print(f\"[✓] {caminho_antigo} → {novo_nome}\")\n",
    "#        except Exception as e:\n",
    "#            print(f\"[!] Erro ao renomear {nome_antigo}: {e}\")\n",
    "\n",
    "# 5. Percorrer recursivamente a pasta\n",
    "#for root, dirs, files in os.walk(base_dir):\n",
    "#    if not files:\n",
    "#        continue  # pula pastas vazias\n",
    "#\n",
    "#    # Pega o nome da última pasta como prefixo\n",
    "#    nome_pasta = os.path.basename(root).lower()\n",
    "#    print(f\"\\n📂 Processando pasta: {root} | Prefixo: {nome_pasta}\")\n",
    "#    renomear_em_pasta(root, nome_pasta)\n",
    "\n",
    "\n"
   ]
  },
  {
   "cell_type": "markdown",
   "metadata": {
    "id": "1BFyoAlVGL2C"
   },
   "source": [
    "# Data Augmentation"
   ]
  },
  {
   "cell_type": "code",
   "execution_count": null,
   "metadata": {
    "id": "ClSvqi5jhTLx"
   },
   "outputs": [],
   "source": [
    "#import os\n",
    "#import random\n",
    "#from PIL import Image\n",
    "#from torchvision import transforms\n",
    "#from tqdm import tqdm\n",
    "\n",
    "# Caminhos\n",
    "#INPUT_DIR = \"/content/drive/MyDrive/Datasets/imagens_placas\"               # Pasta original com subpastas por categoria\n",
    "#OUTPUT_DIR = \"/content/drive/MyDrive/Datasets/imagens_placas_augmented\"     # Onde salvar as imagens aumentadas\n",
    "#NUM_AUGS = 100                        # Número de aumentos por imagem\n",
    "#TARGET_SIZE = (224, 224)             # Tamanho padrão para ViT\n",
    "\n",
    "# Transformações variadas\n",
    "#base_transforms = [\n",
    "#    transforms.ColorJitter(brightness=0.4, contrast=0.4, saturation=0.4, hue=0.05),\n",
    "#    transforms.RandomHorizontalFlip(),\n",
    "#    transforms.RandomVerticalFlip(),\n",
    "#    transforms.RandomRotation(degrees=25),\n",
    "#    transforms.GaussianBlur(kernel_size=(3, 3), sigma=(0.1, 2.0)),\n",
    "#    transforms.RandomPerspective(distortion_scale=0.4, p=0.5),\n",
    "#    transforms.RandomAffine(degrees=15, translate=(0.1, 0.1), scale=(0.8, 1.2)),\n",
    "#    transforms.RandomResizedCrop(size=TARGET_SIZE, scale=(0.7, 1.0))\n",
    "#]\n",
    "\n",
    "#def get_random_augmentation():\n",
    "#    return transforms.Compose([\n",
    "#        transforms.Resize(TARGET_SIZE),\n",
    "#        transforms.RandomApply([random.choice(base_transforms)], p=0.9),\n",
    "#        transforms.ToTensor(),\n",
    "#        transforms.ToPILImage()\n",
    "#    ])\n",
    "\n",
    "# Processamento por categoria\n",
    "#for class_name in os.listdir(INPUT_DIR):\n",
    "#    input_class_dir = os.path.join(INPUT_DIR, class_name)\n",
    "#    output_class_dir = os.path.join(OUTPUT_DIR, class_name)\n",
    "#    os.makedirs(output_class_dir, exist_ok=True)\n",
    "#\n",
    "#    for img_name in tqdm(os.listdir(input_class_dir), desc=f\"Classe {class_name}\"):\n",
    "#        input_path = os.path.join(input_class_dir, img_name)\n",
    "\n",
    "#        try:\n",
    "#            image = Image.open(input_path).convert(\"RGB\")\n",
    "#        except Exception as e:\n",
    "#            print(f\"[!] Erro ao abrir {input_path}: {e}\")\n",
    "#            continue\n",
    "\n",
    "        # Remove extensão e cria nome base\n",
    "#        base_name = os.path.splitext(img_name)[0]\n",
    "#\n",
    "#        for i in range(1, NUM_AUGS + 1):\n",
    "#            aug = get_random_augmentation()\n",
    "#            augmented_img = aug(image)\n",
    "\n",
    "#            new_filename = f\"{base_name}_aug{i:03}.jpg\"\n",
    "#            new_path = os.path.join(output_class_dir, new_filename)\n",
    "#            augmented_img.save(new_path)\n"
   ]
  },
  {
   "cell_type": "markdown",
   "metadata": {
    "id": "LgnsAjc1GbOp"
   },
   "source": [
    "# Montagem do modelo e hiperparametros"
   ]
  },
  {
   "cell_type": "code",
   "execution_count": 8,
   "metadata": {
    "id": "jUWt_ib82Jwn"
   },
   "outputs": [],
   "source": [
    "# Diretório do dataset\n",
    "DATASET_PATH = \"/Users/wfleandro/Documents/FEI/CienciaDeDados/imagens_placas_augmented\""
   ]
  },
  {
   "cell_type": "code",
   "execution_count": 11,
   "metadata": {
    "colab": {
     "base_uri": "https://localhost:8080/"
    },
    "id": "Unh3LaeH2UVK",
    "outputId": "e785a193-cf96-41d3-b53d-2bffc67c0946"
   },
   "outputs": [
    {
     "name": "stdout",
     "output_type": "stream",
     "text": [
      "mps\n"
     ]
    }
   ],
   "source": [
    "# Hiperparâmetros\n",
    "BATCH_SIZE = 16\n",
    "NUM_EPOCHS = 10\n",
    "LR = 1e-4\n",
    "IMAGE_SIZE = 224\n",
    "#DEVICE = torch.device(\"cuda\" if torch.cuda.is_available() else \"cpu\")\n",
    "DEVICE = torch.device(\"mps\" if torch.backends.mps.is_available() else \"cpu\")\n",
    "print(DEVICE)"
   ]
  },
  {
   "cell_type": "code",
   "execution_count": 20,
   "metadata": {
    "id": "7OYvx4BR2WmI"
   },
   "outputs": [],
   "source": [
    "# Transformações de imagem (ViT requer normalização específica)\n",
    "transform = transforms.Compose([\n",
    "    transforms.Resize((IMAGE_SIZE, IMAGE_SIZE)),\n",
    "    transforms.ToTensor(),\n",
    "    transforms.Normalize(mean=[0.5]*3, std=[0.5]*3)\n",
    "])"
   ]
  },
  {
   "cell_type": "code",
   "execution_count": 18,
   "metadata": {},
   "outputs": [
    {
     "name": "stdout",
     "output_type": "stream",
     "text": [
      "Removendo pasta inválida: /Users/wfleandro/Documents/FEI/CienciaDeDados/imagens_placas_augmented/.DS_Store\n",
      "✅ Dataset com 17 classes: ['CPU', 'Celulares', 'Computador', 'Hard disk', 'Memoria Notebook', 'Motherboard', 'Motherboard Notebooks', 'Notebook', 'PLACA CONECTOR BACKPLANE', 'PLACA DE CELULAR COM COMPONENTES', 'PLACA DE TELEFONIA', 'PROCESSADOR CERÂMICO', 'PROCESSADOR PLÁSTICO', 'Pente de Memoria', 'Placa de Video', 'Teclados', 'mouse']\n"
     ]
    }
   ],
   "source": [
    "import os\n",
    "from torchvision import datasets\n",
    "\n",
    "# Garante que apenas subpastas válidas com imagens sejam consideradas\n",
    "def limpar_pastas_invalidas(dataset_path):\n",
    "    for nome in os.listdir(dataset_path):\n",
    "        caminho = os.path.join(dataset_path, nome)\n",
    "        if not os.path.isdir(caminho):\n",
    "            continue\n",
    "        if not any(fname.lower().endswith(('.jpg', '.jpeg', '.png', '.bmp')) for fname in os.listdir(caminho)):\n",
    "            print(f\"Removendo pasta inválida: {caminho}\")\n",
    "            os.rmdir(caminho)\n",
    "\n",
    "# Caminho correto\n",
    "DATASET_PATH = \"/Users/wfleandro/Documents/FEI/CienciaDeDados/imagens_placas_augmented\"\n",
    "\n",
    "# Executa limpeza\n",
    "limpar_pastas_invalidas(DATASET_PATH)\n",
    "\n",
    "# Carrega o dataset agora limpo\n",
    "dataset = datasets.ImageFolder(DATASET_PATH, transform=transform)\n",
    "class_names = dataset.classes\n",
    "NUM_CLASSES = len(class_names)\n",
    "\n",
    "print(f\"✅ Dataset com {NUM_CLASSES} classes: {class_names}\")\n"
   ]
  },
  {
   "cell_type": "code",
   "execution_count": null,
   "metadata": {
    "id": "CK-kvPd42ZIE"
   },
   "outputs": [],
   "source": [
    "# Dataset: assume subpastas por classe\n",
    "#dataset = datasets.ImageFolder(DATASET_PATH, transform=transform)\n",
    "#class_names = dataset.classes\n",
    "#NUM_CLASSES = len(class_names)"
   ]
  },
  {
   "cell_type": "code",
   "execution_count": 21,
   "metadata": {
    "colab": {
     "base_uri": "https://localhost:8080/"
    },
    "id": "hAw1htt64gJ7",
    "outputId": "c9bdbd81-02fa-4f61-9226-8c4b2e51adf0"
   },
   "outputs": [
    {
     "name": "stdout",
     "output_type": "stream",
     "text": [
      "Dataset carregado com 94200 imagens. Classes: ['CPU', 'Celulares', 'Computador', 'Hard disk', 'Memoria Notebook', 'Motherboard', 'Motherboard Notebooks', 'Notebook', 'PLACA CONECTOR BACKPLANE', 'PLACA DE CELULAR COM COMPONENTES', 'PLACA DE TELEFONIA', 'PROCESSADOR CERÂMICO', 'PROCESSADOR PLÁSTICO', 'Pente de Memoria', 'Placa de Video', 'Teclados', 'mouse']\n"
     ]
    }
   ],
   "source": [
    "print(f\"Dataset carregado com {len(dataset)} imagens. Classes: {class_names}\")"
   ]
  },
  {
   "cell_type": "code",
   "execution_count": 22,
   "metadata": {
    "id": "KZRK2tJ-2bTK"
   },
   "outputs": [],
   "source": [
    "# Divisão treino/validação (80/20)\n",
    "train_size = int(0.8 * len(dataset))\n",
    "val_size = len(dataset) - train_size\n",
    "train_set, val_set = torch.utils.data.random_split(dataset, [train_size, val_size])\n",
    "\n",
    "train_loader = DataLoader(train_set, batch_size=BATCH_SIZE, shuffle=True)\n",
    "val_loader = DataLoader(val_set, batch_size=BATCH_SIZE)\n"
   ]
  },
  {
   "cell_type": "code",
   "execution_count": 23,
   "metadata": {
    "colab": {
     "base_uri": "https://localhost:8080/",
     "height": 49,
     "referenced_widgets": [
      "4873a0130fc04f348d8fd6e2ec888b14",
      "ffbfa4c2727a4be3a2098618e3618be3",
      "24f7f01f4efb446d927ad09ac91311da",
      "7339fd27ec1f47a68101f6aa7db1eda9",
      "5c74b333007547caa199cf1f74980713",
      "c028e7d868c94c0391d360de112de298",
      "1cee707ee0674e6b9cd4f71444719112",
      "b1f53fee51364eb890fff64f6fa6e10f",
      "7e8b13f8dd674bbbb7ba0334f5f1f0aa",
      "3279325583c8451b8edcbdd471364979",
      "952502a2fb3d439fbe8a69f976552a83"
     ]
    },
    "id": "1AiGa5aa2dDM",
    "outputId": "48100969-5591-4ca1-8952-c52d426cc853"
   },
   "outputs": [],
   "source": [
    "# Modelo ViT ou DeiT (usando timm)\n",
    "model = create_model('vit_base_patch16_224', pretrained=True, num_classes=NUM_CLASSES)\n",
    "model = model.to(DEVICE)"
   ]
  },
  {
   "cell_type": "code",
   "execution_count": 25,
   "metadata": {
    "id": "sLDdmtBx2hs5"
   },
   "outputs": [
    {
     "name": "stdout",
     "output_type": "stream",
     "text": [
      "[1/10] Train Loss: 0.0827 | Val Loss: 0.1193\n",
      "[2/10] Train Loss: 0.0492 | Val Loss: 0.0200\n",
      "[3/10] Train Loss: 0.0348 | Val Loss: 0.0549\n",
      "[4/10] Train Loss: 0.0277 | Val Loss: 0.0173\n",
      "[5/10] Train Loss: 0.0199 | Val Loss: 0.0329\n",
      "[6/10] Train Loss: 0.0155 | Val Loss: 0.0116\n",
      "[7/10] Train Loss: 0.0116 | Val Loss: 0.0094\n",
      "[8/10] Train Loss: 0.0095 | Val Loss: 0.0104\n",
      "[9/10] Train Loss: 0.0086 | Val Loss: 0.0111\n",
      "[10/10] Train Loss: 0.0076 | Val Loss: 0.0122\n"
     ]
    },
    {
     "data": {
      "text/plain": [
       "<All keys matched successfully>"
      ]
     },
     "execution_count": 25,
     "metadata": {},
     "output_type": "execute_result"
    }
   ],
   "source": [
    "\n",
    "import torch.nn.functional as F\n",
    "from torch.optim.lr_scheduler import CosineAnnealingLR, ReduceLROnPlateau\n",
    "\n",
    "# Modelo com Dropout (exemplo com ViT ou similar)\n",
    "# model = create_model('vit_base_patch16_224', pretrained=True, num_classes=NUM_CLASSES, drop_rate=0.3)\n",
    "# Se você estiver usando outro modelo, inclua dropout manualmente\n",
    "\n",
    "# Otimizador com Weight Decay\n",
    "optimizer = torch.optim.AdamW(model.parameters(), lr=LR, weight_decay=1e-4)\n",
    "\n",
    "# Agendadores de taxa de aprendizado\n",
    "scheduler_cosine = CosineAnnealingLR(optimizer, T_max=10)\n",
    "scheduler_plateau = ReduceLROnPlateau(optimizer, mode='min', factor=0.5, patience=3)\n",
    "\n",
    "# Early Stopping\n",
    "early_stop_patience = 10\n",
    "best_val_loss = float('inf')\n",
    "epochs_no_improve = 0\n",
    "criterion = nn.CrossEntropyLoss()\n",
    "\n",
    "train_losses, val_losses = [], []\n",
    "\n",
    "for epoch in range(NUM_EPOCHS):\n",
    "    model.train()\n",
    "    train_loss = 0.0\n",
    "    for imgs, labels in train_loader:\n",
    "        imgs, labels = imgs.to(DEVICE), labels.to(DEVICE)\n",
    "        optimizer.zero_grad()\n",
    "        outputs = model(imgs)\n",
    "        loss = criterion(outputs, labels)\n",
    "        loss.backward()\n",
    "        optimizer.step()\n",
    "        train_loss += loss.item()\n",
    "    train_loss /= len(train_loader)\n",
    "    train_losses.append(train_loss)\n",
    "\n",
    "    # Validação\n",
    "    model.eval()\n",
    "    val_loss = 0.0\n",
    "    with torch.no_grad():\n",
    "        for imgs, labels in val_loader:\n",
    "            imgs, labels = imgs.to(DEVICE), labels.to(DEVICE)\n",
    "            outputs = model(imgs)\n",
    "            loss = criterion(outputs, labels)\n",
    "            val_loss += loss.item()\n",
    "    val_loss /= len(val_loader)\n",
    "    val_losses.append(val_loss)\n",
    "\n",
    "    print(f\"[{epoch+1}/{NUM_EPOCHS}] Train Loss: {train_loss:.4f} | Val Loss: {val_loss:.4f}\")\n",
    "\n",
    "    # Atualização dos schedulers\n",
    "    scheduler_cosine.step()\n",
    "    scheduler_plateau.step(val_loss)\n",
    "\n",
    "    # Verificação de early stopping\n",
    "    if val_loss < best_val_loss:\n",
    "        best_val_loss = val_loss\n",
    "        epochs_no_improve = 0\n",
    "        best_model_wts = model.state_dict()\n",
    "    else:\n",
    "        epochs_no_improve += 1\n",
    "        if epochs_no_improve >= early_stop_patience:\n",
    "            print(f\"🛑 Early stopping ativado na época {epoch+1}\")\n",
    "            break\n",
    "\n",
    "# Restaurar melhor modelo\n",
    "model.load_state_dict(best_model_wts)\n"
   ]
  },
  {
   "cell_type": "markdown",
   "metadata": {
    "id": "UsKTkSP2FrjJ"
   },
   "source": [
    "# Gráfico de Evolução da Aprendizagem"
   ]
  },
  {
   "cell_type": "code",
   "execution_count": 32,
   "metadata": {
    "id": "gsTVnsXHncpd"
   },
   "outputs": [
    {
     "data": {
      "image/png": "[encoded data removed]",
      "text/plain": [
       "<Figure size 800x500 with 1 Axes>"
      ]
     },
     "metadata": {},
     "output_type": "display_data"
    }
   ],
   "source": [
    "import matplotlib.pyplot as plt\n",
    "\n",
    "# Plotando train_loss e val_loss separadamente\n",
    "plt.figure(figsize=(8, 5))\n",
    "plt.plot(range(1, NUM_EPOCHS + 1), train_losses, label=\"Train Loss\", marker='o', color='blue')\n",
    "plt.plot(range(1, NUM_EPOCHS + 1), val_losses, label=\"Validation Loss\", marker='s', color='green')\n",
    "plt.title(\"Evolução do Erro por Época\")\n",
    "plt.xlabel(\"Época\")\n",
    "plt.ylabel(\"Loss\")\n",
    "plt.legend()\n",
    "plt.grid(True)\n",
    "plt.xticks(range(1, NUM_EPOCHS + 1))\n",
    "plt.tight_layout()\n",
    "plt.show()\n",
    "\n"
   ]
  },
  {
   "cell_type": "code",
   "execution_count": 33,
   "metadata": {},
   "outputs": [
    {
     "data": {
      "image/png": "[encoded data removed]",
      "text/plain": [
       "<Figure size 800x500 with 1 Axes>"
      ]
     },
     "metadata": {},
     "output_type": "display_data"
    }
   ],
   "source": [
    "# Cálculo do erro total por época\n",
    "erro_total = [t + v for t, v in zip(train_losses, val_losses)]\n",
    "\n",
    "# Plot do erro total\n",
    "plt.figure(figsize=(8, 5))\n",
    "plt.plot(range(1, NUM_EPOCHS + 1), erro_total, marker='o', color='red', label='Train + Val Loss')\n",
    "plt.title(\"Evolução do Erro Total por Época\")\n",
    "plt.xlabel(\"Época\")\n",
    "plt.ylabel(\"Erro Total\")\n",
    "plt.grid(True)\n",
    "plt.xticks(range(1, NUM_EPOCHS + 1))\n",
    "plt.legend()\n",
    "plt.tight_layout()\n",
    "plt.show()\n"
   ]
  },
  {
   "cell_type": "code",
   "execution_count": null,
   "metadata": {},
   "outputs": [
    {
     "data": {
      "image/png": "[encoded data removed]",
      "text/plain": [
       "<Figure size 800x500 with 1 Axes>"
      ]
     },
     "metadata": {},
     "output_type": "display_data"
    }
   ],
   "source": [
    "import matplotlib.pyplot as plt\n",
    "\n",
    "# Plot da perda de treinamento por época\n",
    "plt.figure(figsize=(8, 5))\n",
    "plt.plot(range(1, NUM_EPOCHS + 1), train_losses, marker='o', color='blue', label='Train Loss')\n",
    "plt.title(\"Evolução do Erro de Treinamento por Época\")\n",
    "plt.xlabel(\"Época\")\n",
    "plt.ylabel(\"Loss\")\n",
    "plt.grid(True)\n",
    "plt.xticks(range(1, NUM_EPOCHS + 1))\n",
    "plt.legend()\n",
    "plt.tight_layout()\n",
    "plt.show()\n"
   ]
  },
  {
   "cell_type": "markdown",
   "metadata": {
    "id": "EEVEzKZkF1YT"
   },
   "source": [
    "# Validação do modelo"
   ]
  },
  {
   "cell_type": "code",
   "execution_count": 28,
   "metadata": {
    "colab": {
     "background_save": true,
     "base_uri": "https://localhost:8080/"
    },
    "id": "YhO0JLGC2kqe",
    "outputId": "31b3491c-cdce-4150-ecee-f613f147c3d5"
   },
   "outputs": [
    {
     "name": "stdout",
     "output_type": "stream",
     "text": [
      "\n",
      "📊 Relatório de classificação:\n",
      "                                  precision    recall  f1-score   support\n",
      "\n",
      "                             CPU       1.00      1.00      1.00       393\n",
      "                       Celulares       1.00      1.00      1.00      4441\n",
      "                      Computador       1.00      1.00      1.00       550\n",
      "                       Hard disk       1.00      1.00      1.00      1843\n",
      "                Memoria Notebook       1.00      1.00      1.00       147\n",
      "                     Motherboard       1.00      1.00      1.00      2116\n",
      "           Motherboard Notebooks       1.00      1.00      1.00       488\n",
      "                        Notebook       1.00      1.00      1.00      3731\n",
      "        PLACA CONECTOR BACKPLANE       1.00      1.00      1.00       498\n",
      "PLACA DE CELULAR COM COMPONENTES       0.90      0.89      0.89       386\n",
      "              PLACA DE TELEFONIA       0.87      0.88      0.88       325\n",
      "           PROCESSADOR CERÂMICO       0.90      0.87      0.88       178\n",
      "           PROCESSADOR PLÁSTICO       0.94      0.95      0.95       392\n",
      "                Pente de Memoria       1.00      1.00      1.00       520\n",
      "                  Placa de Video       1.00      1.00      1.00       381\n",
      "                        Teclados       1.00      1.00      1.00       849\n",
      "                           mouse       1.00      1.00      1.00      1602\n",
      "\n",
      "                        accuracy                           0.99     18840\n",
      "                       macro avg       0.98      0.98      0.98     18840\n",
      "                    weighted avg       0.99      0.99      0.99     18840\n",
      "\n"
     ]
    }
   ],
   "source": [
    "# Validação final\n",
    "model.eval()\n",
    "all_preds, all_labels = [], []\n",
    "\n",
    "with torch.no_grad():\n",
    "    for imgs, labels in val_loader:\n",
    "        imgs = imgs.to(DEVICE)\n",
    "        outputs = model(imgs)\n",
    "        preds = torch.argmax(outputs, dim=1).cpu().tolist()\n",
    "        all_preds.extend(preds)\n",
    "        all_labels.extend(labels.tolist())\n",
    "\n",
    "print(\"\\n📊 Relatório de classificação:\")\n",
    "print(classification_report(all_labels, all_preds, target_names=class_names))"
   ]
  },
  {
   "cell_type": "code",
   "execution_count": null,
   "metadata": {
    "id": "03QL6r3M2n02"
   },
   "outputs": [],
   "source": [
    "# Salvar modelo\n",
    "torch.save(model.state_dict(), \"vit_classificador.pth\")\n",
    "print(\"✅ Modelo salvo como vit_classificador.pth\")"
   ]
  },
  {
   "cell_type": "code",
   "execution_count": 29,
   "metadata": {
    "id": "fUVQPJ4KBIGx"
   },
   "outputs": [
    {
     "name": "stdout",
     "output_type": "stream",
     "text": [
      "[1/10] Train Loss: 0.0065, Val Loss: 0.0122, Val Accuracy: 0.9934\n",
      "[2/10] Train Loss: 0.0065, Val Loss: 0.0122, Val Accuracy: 0.9934\n",
      "[3/10] Train Loss: 0.0065, Val Loss: 0.0122, Val Accuracy: 0.9934\n",
      "[4/10] Train Loss: 0.0065, Val Loss: 0.0122, Val Accuracy: 0.9934\n",
      "[5/10] Train Loss: 0.0065, Val Loss: 0.0122, Val Accuracy: 0.9934\n",
      "[6/10] Train Loss: 0.0065, Val Loss: 0.0122, Val Accuracy: 0.9934\n",
      "[7/10] Train Loss: 0.0065, Val Loss: 0.0122, Val Accuracy: 0.9934\n",
      "[8/10] Train Loss: 0.0065, Val Loss: 0.0122, Val Accuracy: 0.9934\n",
      "[9/10] Train Loss: 0.0065, Val Loss: 0.0122, Val Accuracy: 0.9934\n",
      "[10/10] Train Loss: 0.0065, Val Loss: 0.0122, Val Accuracy: 0.9934\n"
     ]
    },
    {
     "data": {
      "image/png": "[encoded data removed]",
      "text/plain": [
       "<Figure size 1200x500 with 2 Axes>"
      ]
     },
     "metadata": {},
     "output_type": "display_data"
    },
    {
     "name": "stdout",
     "output_type": "stream",
     "text": [
      "\n",
      "📊 Relatório de classificação:\n",
      "                                  precision    recall  f1-score   support\n",
      "\n",
      "                             CPU       1.00      1.00      1.00       393\n",
      "                       Celulares       1.00      1.00      1.00      4441\n",
      "                      Computador       1.00      1.00      1.00       550\n",
      "                       Hard disk       1.00      1.00      1.00      1843\n",
      "                Memoria Notebook       1.00      1.00      1.00       147\n",
      "                     Motherboard       1.00      1.00      1.00      2116\n",
      "           Motherboard Notebooks       1.00      1.00      1.00       488\n",
      "                        Notebook       1.00      1.00      1.00      3731\n",
      "        PLACA CONECTOR BACKPLANE       1.00      1.00      1.00       498\n",
      "PLACA DE CELULAR COM COMPONENTES       0.90      0.89      0.89       386\n",
      "              PLACA DE TELEFONIA       0.87      0.88      0.88       325\n",
      "           PROCESSADOR CERÂMICO       0.90      0.87      0.88       178\n",
      "           PROCESSADOR PLÁSTICO       0.94      0.95      0.95       392\n",
      "                Pente de Memoria       1.00      1.00      1.00       520\n",
      "                  Placa de Video       1.00      1.00      1.00       381\n",
      "                        Teclados       1.00      1.00      1.00       849\n",
      "                           mouse       1.00      1.00      1.00      1602\n",
      "\n",
      "                        accuracy                           0.99     18840\n",
      "                       macro avg       0.98      0.98      0.98     18840\n",
      "                    weighted avg       0.99      0.99      0.99     18840\n",
      "\n",
      "✅ Modelo salvo como vit_classificador.pth\n"
     ]
    }
   ],
   "source": [
    "# prompt: Gere o grafico de train e validação\n",
    "\n",
    "import matplotlib.pyplot as plt\n",
    "import numpy as np\n",
    "\n",
    "# Listas para armazenar os resultados do treinamento e validação\n",
    "train_losses = []\n",
    "val_losses = []\n",
    "val_accuracies = []\n",
    "\n",
    "# Adicionar loop de validação dentro do loop de epochs\n",
    "for epoch in range(NUM_EPOCHS):\n",
    "    model.train()\n",
    "    total_train_loss = 0\n",
    "    for imgs, labels in train_loader:\n",
    "        imgs, labels = imgs.to(DEVICE), labels.to(DEVICE)\n",
    "        optimizer.zero_grad()\n",
    "        outputs = model(imgs)\n",
    "        loss = criterion(outputs, labels)\n",
    "        loss.backward()\n",
    "        optimizer.step()\n",
    "        total_train_loss += loss.item()\n",
    "\n",
    "    avg_train_loss = total_train_loss / len(train_loader)\n",
    "    train_losses.append(avg_train_loss)\n",
    "\n",
    "    # Validação\n",
    "    model.eval()\n",
    "    total_val_loss = 0\n",
    "    correct_predictions = 0\n",
    "    total_samples = 0\n",
    "\n",
    "    with torch.no_grad():\n",
    "        for imgs, labels in val_loader:\n",
    "            imgs, labels = imgs.to(DEVICE), labels.to(DEVICE)\n",
    "            outputs = model(imgs)\n",
    "            loss = criterion(outputs, labels)\n",
    "            total_val_loss += loss.item()\n",
    "\n",
    "            _, predicted = torch.max(outputs.data, 1)\n",
    "            total_samples += labels.size(0)\n",
    "            correct_predictions += (predicted == labels).sum().item()\n",
    "\n",
    "    avg_val_loss = total_val_loss / len(val_loader)\n",
    "    val_accuracy = correct_predictions / total_samples\n",
    "\n",
    "    val_losses.append(avg_val_loss)\n",
    "    val_accuracies.append(val_accuracy)\n",
    "\n",
    "    print(f\"[{epoch+1}/{NUM_EPOCHS}] Train Loss: {avg_train_loss:.4f}, Val Loss: {avg_val_loss:.4f}, Val Accuracy: {val_accuracy:.4f}\")\n",
    "\n",
    "\n",
    "# Gerar gráficos\n",
    "epochs_range = range(1, NUM_EPOCHS + 1)\n",
    "\n",
    "plt.figure(figsize=(12, 5))\n",
    "\n",
    "# Gráfico de Loss\n",
    "plt.subplot(1, 2, 1)\n",
    "plt.plot(epochs_range, train_losses, label='Training Loss')\n",
    "plt.plot(epochs_range, val_losses, label='Validation Loss')\n",
    "plt.title('Training and Validation Loss')\n",
    "plt.xlabel('Epoch')\n",
    "plt.ylabel('Loss')\n",
    "plt.legend()\n",
    "plt.grid(True)\n",
    "\n",
    "# Gráfico de Acurácia (Opcional, mas útil)\n",
    "plt.subplot(1, 2, 2)\n",
    "plt.plot(epochs_range, val_accuracies, label='Validation Accuracy', color='green')\n",
    "plt.title('Validation Accuracy')\n",
    "plt.xlabel('Epoch')\n",
    "plt.ylabel('Accuracy')\n",
    "plt.legend()\n",
    "plt.grid(True)\n",
    "\n",
    "plt.tight_layout()\n",
    "plt.show()\n",
    "\n",
    "# Validação final (manter o relatório de classificação)\n",
    "model.eval()\n",
    "all_preds, all_labels = [], []\n",
    "\n",
    "with torch.no_grad():\n",
    "    for imgs, labels in val_loader:\n",
    "        imgs = imgs.to(DEVICE)\n",
    "        outputs = model(imgs)\n",
    "        preds = torch.argmax(outputs, dim=1).cpu().tolist()\n",
    "        all_preds.extend(preds)\n",
    "        all_labels.extend(labels.tolist())\n",
    "\n",
    "print(\"\\n📊 Relatório de classificação:\")\n",
    "print(classification_report(all_labels, all_preds, target_names=class_names))\n",
    "\n",
    "# Salvar modelo\n",
    "torch.save(model.state_dict(), \"vit_classificador.pth\")\n",
    "print(\"✅ Modelo salvo como vit_classificador.pth\")\n"
   ]
  },
  {
   "cell_type": "markdown",
   "metadata": {
    "id": "25C-stT26btI"
   },
   "source": [
    "# Inferência do Modelo"
   ]
  },
  {
   "cell_type": "code",
   "execution_count": 42,
   "metadata": {
    "id": "gioyaWwv6ae-"
   },
   "outputs": [
    {
     "name": "stdout",
     "output_type": "stream",
     "text": [
      "Notebook\n"
     ]
    }
   ],
   "source": [
    "from PIL import Image\n",
    "model.eval()\n",
    "\n",
    "def prever_imagem(caminho_img):\n",
    "    img = Image.open(caminho_img).convert(\"RGB\")\n",
    "    img_tensor = transform(img).unsqueeze(0).to(DEVICE)\n",
    "    with torch.no_grad():\n",
    "        output = model(img_tensor)\n",
    "        pred = torch.argmax(output, dim=1).item()\n",
    "        return class_names[pred]\n",
    "\n",
    "# Exemplo:\n",
    "print(prever_imagem(\"/Users/wfleandro/Documents/FEI/CienciaDeDados/processador_amd_ryzen_5_4600g_3_7ghz_4_2ghz_max_turbo_cache_11mb_am4_video_integrado_box_8179_3_aee9ea65842dc1445e841d0863696f8b.webp\"))\n"
   ]
  }
 ],
 "metadata": {
  "accelerator": "GPU",
  "colab": {
   "gpuType": "T4",
   "machine_shape": "hm",
   "provenance": []
  },
  "kernelspec": {
   "display_name": "tf-metal-env",
   "language": "python",
   "name": "python3"
  },
  "language_info": {
   "codemirror_mode": {
    "name": "ipython",
    "version": 3
   },
   "file_extension": ".py",
   "mimetype": "text/x-python",
   "name": "python",
   "nbconvert_exporter": "python",
   "pygments_lexer": "ipython3",
   "version": "3.11.6"
  },
  "widgets": {
   "application/vnd.jupyter.widget-state+json": {
    "1cee707ee0674e6b9cd4f71444719112": {
     "model_module": "@jupyter-widgets/controls",
     "model_module_version": "1.5.0",
     "model_name": "DescriptionStyleModel",
     "state": {
      "_model_module": "@jupyter-widgets/controls",
      "_model_module_version": "1.5.0",
      "_model_name": "DescriptionStyleModel",
      "_view_count": null,
      "_view_module": "@jupyter-widgets/base",
      "_view_module_version": "1.2.0",
      "_view_name": "StyleView",
      "description_width": ""
     }
    },
    "24f7f01f4efb446d927ad09ac91311da": {
     "model_module": "@jupyter-widgets/controls",
     "model_module_version": "1.5.0",
     "model_name": "FloatProgressModel",
     "state": {
      "_dom_classes": [],
      "_model_module": "@jupyter-widgets/controls",
      "_model_module_version": "1.5.0",
      "_model_name": "FloatProgressModel",
      "_view_count": null,
      "_view_module": "@jupyter-widgets/controls",
      "_view_module_version": "1.5.0",
      "_view_name": "ProgressView",
      "bar_style": "success",
      "description": "",
      "description_tooltip": null,
      "layout": "IPY_MODEL_b1f53fee51364eb890fff64f6fa6e10f",
      "max": 346284714,
      "min": 0,
      "orientation": "horizontal",
      "style": "IPY_MODEL_7e8b13f8dd674bbbb7ba0334f5f1f0aa",
      "value": 346284714
     }
    },
    "3279325583c8451b8edcbdd471364979": {
     "model_module": "@jupyter-widgets/base",
     "model_module_version": "1.2.0",
     "model_name": "LayoutModel",
     "state": {
      "_model_module": "@jupyter-widgets/base",
      "_model_module_version": "1.2.0",
      "_model_name": "LayoutModel",
      "_view_count": null,
      "_view_module": "@jupyter-widgets/base",
      "_view_module_version": "1.2.0",
      "_view_name": "LayoutView",
      "align_content": null,
      "align_items": null,
      "align_self": null,
      "border": null,
      "bottom": null,
      "display": null,
      "flex": null,
      "flex_flow": null,
      "grid_area": null,
      "grid_auto_columns": null,
      "grid_auto_flow": null,
      "grid_auto_rows": null,
      "grid_column": null,
      "grid_gap": null,
      "grid_row": null,
      "grid_template_areas": null,
      "grid_template_columns": null,
      "grid_template_rows": null,
      "height": null,
      "justify_content": null,
      "justify_items": null,
      "left": null,
      "margin": null,
      "max_height": null,
      "max_width": null,
      "min_height": null,
      "min_width": null,
      "object_fit": null,
      "object_position": null,
      "order": null,
      "overflow": null,
      "overflow_x": null,
      "overflow_y": null,
      "padding": null,
      "right": null,
      "top": null,
      "visibility": null,
      "width": null
     }
    },
    "4873a0130fc04f348d8fd6e2ec888b14": {
     "model_module": "@jupyter-widgets/controls",
     "model_module_version": "1.5.0",
     "model_name": "HBoxModel",
     "state": {
      "_dom_classes": [],
      "_model_module": "@jupyter-widgets/controls",
      "_model_module_version": "1.5.0",
      "_model_name": "HBoxModel",
      "_view_count": null,
      "_view_module": "@jupyter-widgets/controls",
      "_view_module_version": "1.5.0",
      "_view_name": "HBoxView",
      "box_style": "",
      "children": [
       "IPY_MODEL_ffbfa4c2727a4be3a2098618e3618be3",
       "IPY_MODEL_24f7f01f4efb446d927ad09ac91311da",
       "IPY_MODEL_7339fd27ec1f47a68101f6aa7db1eda9"
      ],
      "layout": "IPY_MODEL_5c74b333007547caa199cf1f74980713"
     }
    },
    "5c74b333007547caa199cf1f74980713": {
     "model_module": "@jupyter-widgets/base",
     "model_module_version": "1.2.0",
     "model_name": "LayoutModel",
     "state": {
      "_model_module": "@jupyter-widgets/base",
      "_model_module_version": "1.2.0",
      "_model_name": "LayoutModel",
      "_view_count": null,
      "_view_module": "@jupyter-widgets/base",
      "_view_module_version": "1.2.0",
      "_view_name": "LayoutView",
      "align_content": null,
      "align_items": null,
      "align_self": null,
      "border": null,
      "bottom": null,
      "display": null,
      "flex": null,
      "flex_flow": null,
      "grid_area": null,
      "grid_auto_columns": null,
      "grid_auto_flow": null,
      "grid_auto_rows": null,
      "grid_column": null,
      "grid_gap": null,
      "grid_row": null,
      "grid_template_areas": null,
      "grid_template_columns": null,
      "grid_template_rows": null,
      "height": null,
      "justify_content": null,
      "justify_items": null,
      "left": null,
      "margin": null,
      "max_height": null,
      "max_width": null,
      "min_height": null,
      "min_width": null,
      "object_fit": null,
      "object_position": null,
      "order": null,
      "overflow": null,
      "overflow_x": null,
      "overflow_y": null,
      "padding": null,
      "right": null,
      "top": null,
      "visibility": null,
      "width": null
     }
    },
    "7339fd27ec1f47a68101f6aa7db1eda9": {
     "model_module": "@jupyter-widgets/controls",
     "model_module_version": "1.5.0",
     "model_name": "HTMLModel",
     "state": {
      "_dom_classes": [],
      "_model_module": "@jupyter-widgets/controls",
      "_model_module_version": "1.5.0",
      "_model_name": "HTMLModel",
      "_view_count": null,
      "_view_module": "@jupyter-widgets/controls",
      "_view_module_version": "1.5.0",
      "_view_name": "HTMLView",
      "description": "",
      "description_tooltip": null,
      "layout": "IPY_MODEL_3279325583c8451b8edcbdd471364979",
      "placeholder": "​",
      "style": "IPY_MODEL_952502a2fb3d439fbe8a69f976552a83",
      "value": " 346M/346M [00:05&lt;00:00, 57.3MB/s]"
     }
    },
    "7e8b13f8dd674bbbb7ba0334f5f1f0aa": {
     "model_module": "@jupyter-widgets/controls",
     "model_module_version": "1.5.0",
     "model_name": "ProgressStyleModel",
     "state": {
      "_model_module": "@jupyter-widgets/controls",
      "_model_module_version": "1.5.0",
      "_model_name": "ProgressStyleModel",
      "_view_count": null,
      "_view_module": "@jupyter-widgets/base",
      "_view_module_version": "1.2.0",
      "_view_name": "StyleView",
      "bar_color": null,
      "description_width": ""
     }
    },
    "952502a2fb3d439fbe8a69f976552a83": {
     "model_module": "@jupyter-widgets/controls",
     "model_module_version": "1.5.0",
     "model_name": "DescriptionStyleModel",
     "state": {
      "_model_module": "@jupyter-widgets/controls",
      "_model_module_version": "1.5.0",
      "_model_name": "DescriptionStyleModel",
      "_view_count": null,
      "_view_module": "@jupyter-widgets/base",
      "_view_module_version": "1.2.0",
      "_view_name": "StyleView",
      "description_width": ""
     }
    },
    "b1f53fee51364eb890fff64f6fa6e10f": {
     "model_module": "@jupyter-widgets/base",
     "model_module_version": "1.2.0",
     "model_name": "LayoutModel",
     "state": {
      "_model_module": "@jupyter-widgets/base",
      "_model_module_version": "1.2.0",
      "_model_name": "LayoutModel",
      "_view_count": null,
      "_view_module": "@jupyter-widgets/base",
      "_view_module_version": "1.2.0",
      "_view_name": "LayoutView",
      "align_content": null,
      "align_items": null,
      "align_self": null,
      "border": null,
      "bottom": null,
      "display": null,
      "flex": null,
      "flex_flow": null,
      "grid_area": null,
      "grid_auto_columns": null,
      "grid_auto_flow": null,
      "grid_auto_rows": null,
      "grid_column": null,
      "grid_gap": null,
      "grid_row": null,
      "grid_template_areas": null,
      "grid_template_columns": null,
      "grid_template_rows": null,
      "height": null,
      "justify_content": null,
      "justify_items": null,
      "left": null,
      "margin": null,
      "max_height": null,
      "max_width": null,
      "min_height": null,
      "min_width": null,
      "object_fit": null,
      "object_position": null,
      "order": null,
      "overflow": null,
      "overflow_x": null,
      "overflow_y": null,
      "padding": null,
      "right": null,
      "top": null,
      "visibility": null,
      "width": null
     }
    },
    "c028e7d868c94c0391d360de112de298": {
     "model_module": "@jupyter-widgets/base",
     "model_module_version": "1.2.0",
     "model_name": "LayoutModel",
     "state": {
      "_model_module": "@jupyter-widgets/base",
      "_model_module_version": "1.2.0",
      "_model_name": "LayoutModel",
      "_view_count": null,
      "_view_module": "@jupyter-widgets/base",
      "_view_module_version": "1.2.0",
      "_view_name": "LayoutView",
      "align_content": null,
      "align_items": null,
      "align_self": null,
      "border": null,
      "bottom": null,
      "display": null,
      "flex": null,
      "flex_flow": null,
      "grid_area": null,
      "grid_auto_columns": null,
      "grid_auto_flow": null,
      "grid_auto_rows": null,
      "grid_column": null,
      "grid_gap": null,
      "grid_row": null,
      "grid_template_areas": null,
      "grid_template_columns": null,
      "grid_template_rows": null,
      "height": null,
      "justify_content": null,
      "justify_items": null,
      "left": null,
      "margin": null,
      "max_height": null,
      "max_width": null,
      "min_height": null,
      "min_width": null,
      "object_fit": null,
      "object_position": null,
      "order": null,
      "overflow": null,
      "overflow_x": null,
      "overflow_y": null,
      "padding": null,
      "right": null,
      "top": null,
      "visibility": null,
      "width": null
     }
    },
    "ffbfa4c2727a4be3a2098618e3618be3": {
     "model_module": "@jupyter-widgets/controls",
     "model_module_version": "1.5.0",
     "model_name": "HTMLModel",
     "state": {
      "_dom_classes": [],
      "_model_module": "@jupyter-widgets/controls",
      "_model_module_version": "1.5.0",
      "_model_name": "HTMLModel",
      "_view_count": null,
      "_view_module": "@jupyter-widgets/controls",
      "_view_module_version": "1.5.0",
      "_view_name": "HTMLView",
      "description": "",
      "description_tooltip": null,
      "layout": "IPY_MODEL_c028e7d868c94c0391d360de112de298",
      "placeholder": "​",
      "style": "IPY_MODEL_1cee707ee0674e6b9cd4f71444719112",
      "value": "model.safetensors: 100%"
     }
    }
   }
  }
 },
 "nbformat": 4,
 "nbformat_minor": 0
}
