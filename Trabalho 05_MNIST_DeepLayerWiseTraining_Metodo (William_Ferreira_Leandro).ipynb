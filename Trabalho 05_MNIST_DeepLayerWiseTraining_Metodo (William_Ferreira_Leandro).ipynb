{
  "cells": [
    {
      "cell_type": "markdown",
      "metadata": {
        "id": "4PUGHDZtWdfd"
      },
      "source": [
        "# **Lendo a base de dados MNIST**\n"
      ]
    },
    {
      "cell_type": "code",
      "execution_count": null,
      "metadata": {
        "colab": {
          "base_uri": "https://localhost:8080/"
        },
        "id": "Z4vMtQRvWinF",
        "outputId": "b6ae6269-dae4-4728-a851-5cc297d32929"
      },
      "outputs": [
        {
          "output_type": "stream",
          "name": "stdout",
          "text": [
            "Downloading data from https://storage.googleapis.com/tensorflow/tf-keras-datasets/mnist.npz\n",
            "\u001b[1m11490434/11490434\u001b[0m \u001b[32m━━━━━━━━━━━━━━━━━━━━\u001b[0m\u001b[37m\u001b[0m \u001b[1m0s\u001b[0m 0us/step\n",
            "Qtd. itens no conj. de treinamento: 60000\n",
            "Qtd. itens no conj. de teste: 10000\n",
            "Formato dos dados: (60000, 28, 28)\n",
            "Formato dos rótulos: (60000,)\n",
            "Número de classes: 10\n",
            "\n",
            "Exemplo de uma imagem:\n",
            "[[  0   0   0   0   0   0   0   0   0   0   0   0   0   0   0   0   0   0\n",
            "    0   0   0   0   0   0   0   0   0   0]\n",
            " [  0   0   0   0   0   0   0   0   0   0   0   0   0   0   0   0   0   0\n",
            "    0   0   0   0   0   0   0   0   0   0]\n",
            " [  0   0   0   0   0   0   0   0   0   0   0   0   0   0   0   0   0   0\n",
            "    0   0   0   0   0   0   0   0   0   0]\n",
            " [  0   0   0   0   0   0   0   0   0   0   0   0   0   0   0   0   0   0\n",
            "    0   0   0   0   0   0   0   0   0   0]\n",
            " [  0   0   0   0   0   0   0   0   0   0   0   0   0   0   0  51 159 253\n",
            "  159  50   0   0   0   0   0   0   0   0]\n",
            " [  0   0   0   0   0   0   0   0   0   0   0   0   0   0  48 238 252 252\n",
            "  252 237   0   0   0   0   0   0   0   0]\n",
            " [  0   0   0   0   0   0   0   0   0   0   0   0   0  54 227 253 252 239\n",
            "  233 252  57   6   0   0   0   0   0   0]\n",
            " [  0   0   0   0   0   0   0   0   0   0   0  10  60 224 252 253 252 202\n",
            "   84 252 253 122   0   0   0   0   0   0]\n",
            " [  0   0   0   0   0   0   0   0   0   0   0 163 252 252 252 253 252 252\n",
            "   96 189 253 167   0   0   0   0   0   0]\n",
            " [  0   0   0   0   0   0   0   0   0   0  51 238 253 253 190 114 253 228\n",
            "   47  79 255 168   0   0   0   0   0   0]\n",
            " [  0   0   0   0   0   0   0   0   0  48 238 252 252 179  12  75 121  21\n",
            "    0   0 253 243  50   0   0   0   0   0]\n",
            " [  0   0   0   0   0   0   0   0  38 165 253 233 208  84   0   0   0   0\n",
            "    0   0 253 252 165   0   0   0   0   0]\n",
            " [  0   0   0   0   0   0   0   7 178 252 240  71  19  28   0   0   0   0\n",
            "    0   0 253 252 195   0   0   0   0   0]\n",
            " [  0   0   0   0   0   0   0  57 252 252  63   0   0   0   0   0   0   0\n",
            "    0   0 253 252 195   0   0   0   0   0]\n",
            " [  0   0   0   0   0   0   0 198 253 190   0   0   0   0   0   0   0   0\n",
            "    0   0 255 253 196   0   0   0   0   0]\n",
            " [  0   0   0   0   0   0  76 246 252 112   0   0   0   0   0   0   0   0\n",
            "    0   0 253 252 148   0   0   0   0   0]\n",
            " [  0   0   0   0   0   0  85 252 230  25   0   0   0   0   0   0   0   0\n",
            "    7 135 253 186  12   0   0   0   0   0]\n",
            " [  0   0   0   0   0   0  85 252 223   0   0   0   0   0   0   0   0   7\n",
            "  131 252 225  71   0   0   0   0   0   0]\n",
            " [  0   0   0   0   0   0  85 252 145   0   0   0   0   0   0   0  48 165\n",
            "  252 173   0   0   0   0   0   0   0   0]\n",
            " [  0   0   0   0   0   0  86 253 225   0   0   0   0   0   0 114 238 253\n",
            "  162   0   0   0   0   0   0   0   0   0]\n",
            " [  0   0   0   0   0   0  85 252 249 146  48  29  85 178 225 253 223 167\n",
            "   56   0   0   0   0   0   0   0   0   0]\n",
            " [  0   0   0   0   0   0  85 252 252 252 229 215 252 252 252 196 130   0\n",
            "    0   0   0   0   0   0   0   0   0   0]\n",
            " [  0   0   0   0   0   0  28 199 252 252 253 252 252 233 145   0   0   0\n",
            "    0   0   0   0   0   0   0   0   0   0]\n",
            " [  0   0   0   0   0   0   0  25 128 252 253 252 141  37   0   0   0   0\n",
            "    0   0   0   0   0   0   0   0   0   0]\n",
            " [  0   0   0   0   0   0   0   0   0   0   0   0   0   0   0   0   0   0\n",
            "    0   0   0   0   0   0   0   0   0   0]\n",
            " [  0   0   0   0   0   0   0   0   0   0   0   0   0   0   0   0   0   0\n",
            "    0   0   0   0   0   0   0   0   0   0]\n",
            " [  0   0   0   0   0   0   0   0   0   0   0   0   0   0   0   0   0   0\n",
            "    0   0   0   0   0   0   0   0   0   0]\n",
            " [  0   0   0   0   0   0   0   0   0   0   0   0   0   0   0   0   0   0\n",
            "    0   0   0   0   0   0   0   0   0   0]]\n",
            "\n",
            "Exemplos de 5 rótulos:\n",
            "[5 0 4 1 9]\n"
          ]
        }
      ],
      "source": [
        "import tensorflow as tf\n",
        "from tensorflow import keras\n",
        "\n",
        "# Load the MNIST dataset\n",
        "(X_train, y_train), (X_test, y_test) = keras.datasets.mnist.load_data()\n",
        "\n",
        "print('Qtd. itens no conj. de treinamento:', len(X_train))\n",
        "print('Qtd. itens no conj. de teste:', len(X_test))\n",
        "print('Formato dos dados:', X_train.shape)\n",
        "print('Formato dos rótulos:', y_train.shape)\n",
        "print(\"Número de classes:\", len(set(y_train)))\n",
        "\n",
        "print('\\nExemplo de uma imagem:')\n",
        "print(X_train[1])\n",
        "print('\\nExemplos de 5 rótulos:')\n",
        "print(y_train[:5])"
      ]
    },
    {
      "cell_type": "markdown",
      "metadata": {
        "id": "y5IKTz5EXwkU"
      },
      "source": [
        "# **Preparando os dados**"
      ]
    },
    {
      "cell_type": "code",
      "execution_count": null,
      "metadata": {
        "colab": {
          "base_uri": "https://localhost:8080/"
        },
        "id": "kJkLhm4HrYU_",
        "outputId": "439a8e1e-105d-4be6-ee64-2ea0a5fee1f1"
      },
      "outputs": [
        {
          "output_type": "stream",
          "name": "stdout",
          "text": [
            "\n",
            "Exemplo de uma imagem normalizada:\n",
            "[[0.         0.         0.         0.         0.         0.\n",
            "  0.         0.         0.         0.         0.         0.\n",
            "  0.         0.         0.         0.         0.         0.\n",
            "  0.         0.         0.         0.         0.         0.\n",
            "  0.         0.         0.         0.        ]\n",
            " [0.         0.         0.         0.         0.         0.\n",
            "  0.         0.         0.         0.         0.         0.\n",
            "  0.         0.         0.         0.         0.         0.\n",
            "  0.         0.         0.         0.         0.         0.\n",
            "  0.         0.         0.         0.        ]\n",
            " [0.         0.         0.         0.         0.         0.\n",
            "  0.         0.         0.         0.         0.         0.\n",
            "  0.         0.         0.         0.         0.         0.\n",
            "  0.         0.         0.         0.         0.         0.\n",
            "  0.         0.         0.         0.        ]\n",
            " [0.         0.         0.         0.         0.         0.\n",
            "  0.         0.         0.         0.         0.         0.\n",
            "  0.         0.         0.         0.         0.         0.\n",
            "  0.         0.         0.         0.         0.         0.\n",
            "  0.         0.         0.         0.        ]\n",
            " [0.         0.         0.         0.         0.         0.\n",
            "  0.         0.         0.         0.         0.         0.\n",
            "  0.         0.         0.         0.2        0.62352943 0.99215686\n",
            "  0.62352943 0.19607843 0.         0.         0.         0.\n",
            "  0.         0.         0.         0.        ]\n",
            " [0.         0.         0.         0.         0.         0.\n",
            "  0.         0.         0.         0.         0.         0.\n",
            "  0.         0.         0.1882353  0.93333334 0.9882353  0.9882353\n",
            "  0.9882353  0.92941177 0.         0.         0.         0.\n",
            "  0.         0.         0.         0.        ]\n",
            " [0.         0.         0.         0.         0.         0.\n",
            "  0.         0.         0.         0.         0.         0.\n",
            "  0.         0.21176471 0.8901961  0.99215686 0.9882353  0.9372549\n",
            "  0.9137255  0.9882353  0.22352941 0.02352941 0.         0.\n",
            "  0.         0.         0.         0.        ]\n",
            " [0.         0.         0.         0.         0.         0.\n",
            "  0.         0.         0.         0.         0.         0.03921569\n",
            "  0.23529412 0.8784314  0.9882353  0.99215686 0.9882353  0.7921569\n",
            "  0.32941177 0.9882353  0.99215686 0.47843137 0.         0.\n",
            "  0.         0.         0.         0.        ]\n",
            " [0.         0.         0.         0.         0.         0.\n",
            "  0.         0.         0.         0.         0.         0.6392157\n",
            "  0.9882353  0.9882353  0.9882353  0.99215686 0.9882353  0.9882353\n",
            "  0.3764706  0.7411765  0.99215686 0.654902   0.         0.\n",
            "  0.         0.         0.         0.        ]\n",
            " [0.         0.         0.         0.         0.         0.\n",
            "  0.         0.         0.         0.         0.2        0.93333334\n",
            "  0.99215686 0.99215686 0.74509805 0.44705883 0.99215686 0.89411765\n",
            "  0.18431373 0.30980393 1.         0.65882355 0.         0.\n",
            "  0.         0.         0.         0.        ]\n",
            " [0.         0.         0.         0.         0.         0.\n",
            "  0.         0.         0.         0.1882353  0.93333334 0.9882353\n",
            "  0.9882353  0.7019608  0.04705882 0.29411766 0.4745098  0.08235294\n",
            "  0.         0.         0.99215686 0.9529412  0.19607843 0.\n",
            "  0.         0.         0.         0.        ]\n",
            " [0.         0.         0.         0.         0.         0.\n",
            "  0.         0.         0.14901961 0.64705884 0.99215686 0.9137255\n",
            "  0.8156863  0.32941177 0.         0.         0.         0.\n",
            "  0.         0.         0.99215686 0.9882353  0.64705884 0.\n",
            "  0.         0.         0.         0.        ]\n",
            " [0.         0.         0.         0.         0.         0.\n",
            "  0.         0.02745098 0.69803923 0.9882353  0.9411765  0.2784314\n",
            "  0.07450981 0.10980392 0.         0.         0.         0.\n",
            "  0.         0.         0.99215686 0.9882353  0.7647059  0.\n",
            "  0.         0.         0.         0.        ]\n",
            " [0.         0.         0.         0.         0.         0.\n",
            "  0.         0.22352941 0.9882353  0.9882353  0.24705882 0.\n",
            "  0.         0.         0.         0.         0.         0.\n",
            "  0.         0.         0.99215686 0.9882353  0.7647059  0.\n",
            "  0.         0.         0.         0.        ]\n",
            " [0.         0.         0.         0.         0.         0.\n",
            "  0.         0.7764706  0.99215686 0.74509805 0.         0.\n",
            "  0.         0.         0.         0.         0.         0.\n",
            "  0.         0.         1.         0.99215686 0.76862746 0.\n",
            "  0.         0.         0.         0.        ]\n",
            " [0.         0.         0.         0.         0.         0.\n",
            "  0.29803923 0.9647059  0.9882353  0.4392157  0.         0.\n",
            "  0.         0.         0.         0.         0.         0.\n",
            "  0.         0.         0.99215686 0.9882353  0.5803922  0.\n",
            "  0.         0.         0.         0.        ]\n",
            " [0.         0.         0.         0.         0.         0.\n",
            "  0.33333334 0.9882353  0.9019608  0.09803922 0.         0.\n",
            "  0.         0.         0.         0.         0.         0.\n",
            "  0.02745098 0.5294118  0.99215686 0.7294118  0.04705882 0.\n",
            "  0.         0.         0.         0.        ]\n",
            " [0.         0.         0.         0.         0.         0.\n",
            "  0.33333334 0.9882353  0.8745098  0.         0.         0.\n",
            "  0.         0.         0.         0.         0.         0.02745098\n",
            "  0.5137255  0.9882353  0.88235295 0.2784314  0.         0.\n",
            "  0.         0.         0.         0.        ]\n",
            " [0.         0.         0.         0.         0.         0.\n",
            "  0.33333334 0.9882353  0.5686275  0.         0.         0.\n",
            "  0.         0.         0.         0.         0.1882353  0.64705884\n",
            "  0.9882353  0.6784314  0.         0.         0.         0.\n",
            "  0.         0.         0.         0.        ]\n",
            " [0.         0.         0.         0.         0.         0.\n",
            "  0.3372549  0.99215686 0.88235295 0.         0.         0.\n",
            "  0.         0.         0.         0.44705883 0.93333334 0.99215686\n",
            "  0.63529414 0.         0.         0.         0.         0.\n",
            "  0.         0.         0.         0.        ]\n",
            " [0.         0.         0.         0.         0.         0.\n",
            "  0.33333334 0.9882353  0.9764706  0.57254905 0.1882353  0.11372549\n",
            "  0.33333334 0.69803923 0.88235295 0.99215686 0.8745098  0.654902\n",
            "  0.21960784 0.         0.         0.         0.         0.\n",
            "  0.         0.         0.         0.        ]\n",
            " [0.         0.         0.         0.         0.         0.\n",
            "  0.33333334 0.9882353  0.9882353  0.9882353  0.8980392  0.84313726\n",
            "  0.9882353  0.9882353  0.9882353  0.76862746 0.50980395 0.\n",
            "  0.         0.         0.         0.         0.         0.\n",
            "  0.         0.         0.         0.        ]\n",
            " [0.         0.         0.         0.         0.         0.\n",
            "  0.10980392 0.78039217 0.9882353  0.9882353  0.99215686 0.9882353\n",
            "  0.9882353  0.9137255  0.5686275  0.         0.         0.\n",
            "  0.         0.         0.         0.         0.         0.\n",
            "  0.         0.         0.         0.        ]\n",
            " [0.         0.         0.         0.         0.         0.\n",
            "  0.         0.09803922 0.5019608  0.9882353  0.99215686 0.9882353\n",
            "  0.5529412  0.14509805 0.         0.         0.         0.\n",
            "  0.         0.         0.         0.         0.         0.\n",
            "  0.         0.         0.         0.        ]\n",
            " [0.         0.         0.         0.         0.         0.\n",
            "  0.         0.         0.         0.         0.         0.\n",
            "  0.         0.         0.         0.         0.         0.\n",
            "  0.         0.         0.         0.         0.         0.\n",
            "  0.         0.         0.         0.        ]\n",
            " [0.         0.         0.         0.         0.         0.\n",
            "  0.         0.         0.         0.         0.         0.\n",
            "  0.         0.         0.         0.         0.         0.\n",
            "  0.         0.         0.         0.         0.         0.\n",
            "  0.         0.         0.         0.        ]\n",
            " [0.         0.         0.         0.         0.         0.\n",
            "  0.         0.         0.         0.         0.         0.\n",
            "  0.         0.         0.         0.         0.         0.\n",
            "  0.         0.         0.         0.         0.         0.\n",
            "  0.         0.         0.         0.        ]\n",
            " [0.         0.         0.         0.         0.         0.\n",
            "  0.         0.         0.         0.         0.         0.\n",
            "  0.         0.         0.         0.         0.         0.\n",
            "  0.         0.         0.         0.         0.         0.\n",
            "  0.         0.         0.         0.        ]]\n"
          ]
        }
      ],
      "source": [
        "# Normalizando os dados\n",
        "X_train = X_train.astype('float32') / 255\n",
        "X_test = X_test.astype('float32') / 255\n",
        "print('\\nExemplo de uma imagem normalizada:')\n",
        "print(X_train[1])"
      ]
    },
    {
      "cell_type": "markdown",
      "metadata": {
        "id": "3HS8B3ZTYuAl"
      },
      "source": [
        "# **One-hot encoding**"
      ]
    },
    {
      "cell_type": "code",
      "execution_count": null,
      "metadata": {
        "colab": {
          "base_uri": "https://localhost:8080/"
        },
        "id": "M2ZptxFBYxAK",
        "outputId": "74c94cc7-31db-4431-976c-40ce5045298c"
      },
      "outputs": [
        {
          "output_type": "stream",
          "name": "stdout",
          "text": [
            "\n",
            "Exemplos de 5 rótulos one-hot:\n",
            "[[0. 0. 0. 0. 0. 1. 0. 0. 0. 0.]\n",
            " [1. 0. 0. 0. 0. 0. 0. 0. 0. 0.]\n",
            " [0. 0. 0. 0. 1. 0. 0. 0. 0. 0.]\n",
            " [0. 1. 0. 0. 0. 0. 0. 0. 0. 0.]\n",
            " [0. 0. 0. 0. 0. 0. 0. 0. 0. 1.]]\n"
          ]
        }
      ],
      "source": [
        "# faz o encoding com Keras\n",
        "y_train = keras.utils.to_categorical(y_train, num_classes=10)\n",
        "y_test_multilabel = y_test\n",
        "y_test = keras.utils.to_categorical(y_test, num_classes=10)\n",
        "print('\\nExemplos de 5 rótulos one-hot:')\n",
        "print(y_train[:5])"
      ]
    },
    {
      "cell_type": "markdown",
      "metadata": {
        "id": "Bl4kLdxIbO0d"
      },
      "source": [
        "# **Definindo a arquitetura da rede**"
      ]
    },
    {
      "cell_type": "code",
      "execution_count": null,
      "metadata": {
        "id": "5x03rz0kigs7",
        "collapsed": true
      },
      "outputs": [],
      "source": [
        "import tensorflow as tf\n",
        "from tensorflow import keras\n",
        "from tensorflow.keras.models import Sequential\n",
        "from tensorflow.keras.layers import Dense, Flatten\n",
        "from tensorflow.keras.optimizers import Adam\n",
        "from tensorflow.keras.losses import CategoricalCrossentropy\n",
        "from tensorflow.keras.metrics import CategoricalAccuracy\n",
        "\n",
        "def greedy_layer_wise_training(model, X_train, y_train, X_test, y_test):\n",
        "    \"\"\"Trains a model using greedy layer-wise training.\"\"\"\n",
        "\n",
        "    epochs_per_layer=10\n",
        "    for i in range(1, len(model.layers)):\n",
        "        # Freeze all layers except the current one\n",
        "        for layer in model.layers[:i]:\n",
        "            layer.trainable = False\n",
        "        for layer in model.layers[i:]:\n",
        "            layer.trainable = True\n",
        "\n",
        "        # Compile the model for the current layer\n",
        "        model.compile('Adam','categorical_crossentropy', metrics=['categorical_accuracy'])\n",
        "\n",
        "        # Train the current layer\n",
        "        model.fit(X_train, y_train, validation_split=.1, epochs=epochs_per_layer, verbose=2)\n",
        "\n",
        "        # Evaluate the  model\n",
        "        loss, accuracy = model.evaluate(X_test, y_test, verbose=0)\n",
        "        print(f\"layer: {i}\")\n",
        "        print(f\"Test Loss: {loss:.4f}\")\n",
        "        print(f\"Test Accuracy: {accuracy:.4f}\")\n",
        "\n",
        "\n",
        "# Start a timer.\n",
        "import time\n",
        "start_time = time.time()\n",
        "\n",
        "\n",
        "# Define the model architecture\n",
        "model = Sequential()\n",
        "model.add(Flatten(input_shape=(28, 28)))\n",
        "model.add(Dense(1569, activation='relu'))\n",
        "model.add(Dense(784, activation='relu'))\n",
        "model.add(Dense(392, activation='relu'))\n",
        "model.add(Dense(100, activation='relu'))\n",
        "model.add(Dense(30, activation='relu'))\n",
        "model.add(Dense(10, activation='softmax'))\n",
        "\n",
        "# Perform greedy layer-wise training\n",
        "greedy_layer_wise_training(model, X_train, y_train, X_test, y_test)\n",
        "\n",
        "# Evaluate the final model\n",
        "loss, accuracy = model.evaluate(X_test, y_test, verbose=0)\n",
        "print(f\"Test Loss: {loss:.4f}\")\n",
        "print(f\"Test Accuracy: {accuracy:.4f}\")"
      ]
    },
    {
      "cell_type": "code",
      "source": [
        "import tensorflow as tf\n",
        "from tensorflow import keras\n",
        "from tensorflow.keras.models import Sequential\n",
        "from tensorflow.keras.layers import Dense, Flatten\n",
        "from tensorflow.keras.optimizers import Adam\n",
        "from tensorflow.keras.losses import CategoricalCrossentropy\n",
        "from tensorflow.keras.metrics import CategoricalAccuracy\n",
        "from tensorflow.keras.layers import Dense, Dropout, Flatten, Conv2D, MaxPooling2D, InputLayer as Inputlayer\n",
        "\n",
        "def greedy_layer_wise_training(model, X_train, y_train, X_test, y_test):\n",
        "    \"\"\"Trains a model using greedy layer-wise training.\"\"\"\n",
        "\n",
        "    epochs_per_layer=10\n",
        "    for i in range(1, len(model.layers)):\n",
        "        # Freeze all layers except the current one\n",
        "        for layer in model.layers[:i]:\n",
        "            layer.trainable = False\n",
        "        for layer in model.layers[i:]:\n",
        "            layer.trainable = True\n",
        "\n",
        "        # Compile the model for the current layer\n",
        "        model.compile('Adam','categorical_crossentropy', metrics=['categorical_accuracy'])\n",
        "\n",
        "        # Train the current layer\n",
        "        model.fit(X_train, y_train, validation_split=.1, epochs=epochs_per_layer, verbose=2)\n",
        "\n",
        "        # Evaluate the  model\n",
        "        loss, accuracy = model.evaluate(X_test, y_test, verbose=0)\n",
        "        print(f\"layer: {i}\")\n",
        "        print(f\"Test Loss: {loss:.4f}\")\n",
        "        print(f\"Test Accuracy: {accuracy:.4f}\")\n",
        "\n",
        "\n",
        "# Start a timer.\n",
        "import time\n",
        "start_time = time.time()\n",
        "\n",
        "\n",
        "# Define the model architecture\n",
        "model = Sequential()\n",
        "model.add(Inputlayer(input_shape=(28, 28, 1)))\n",
        "\n",
        "model.add(Conv2D(filters=32, kernel_size=(3,3), activation='relu'))\n",
        "model.add(MaxPooling2D(pool_size=(2,2)))\n",
        "\n",
        "model.add(Conv2D(filters=32, kernel_size=(3,3), activation='relu'))\n",
        "model.add(MaxPooling2D(pool_size=(2,2)))\n",
        "\n",
        "model.add(Flatten())\n",
        "\n",
        "model.add(Dense(128, activation='relu'))\n",
        "model.add(Dropout(0.2))\n",
        "model.add(Dense(128, activation='relu'))\n",
        "model.add(Dropout(0.2))\n",
        "model.add(Dense(10, activation='softmax'))\n",
        "\n",
        "# Perform greedy layer-wise training\n",
        "greedy_layer_wise_training(model, X_train, y_train, X_test, y_test)\n",
        "\n",
        "# Evaluate the final model\n",
        "loss, accuracy = model.evaluate(X_test, y_test, verbose=0)\n",
        "print(f\"Test Loss: {loss:.4f}\")\n",
        "print(f\"Test Accuracy: {accuracy:.4f}\")"
      ],
      "metadata": {
        "colab": {
          "base_uri": "https://localhost:8080/"
        },
        "id": "ft9nVMNF_Vzm",
        "outputId": "5c2f8d91-ead1-42f0-c065-7a3768dc7921"
      },
      "execution_count": null,
      "outputs": [
        {
          "output_type": "stream",
          "name": "stderr",
          "text": [
            "/usr/local/lib/python3.10/dist-packages/keras/src/layers/core/input_layer.py:26: UserWarning: Argument `input_shape` is deprecated. Use `shape` instead.\n",
            "  warnings.warn(\n"
          ]
        },
        {
          "output_type": "stream",
          "name": "stdout",
          "text": [
            "Epoch 1/10\n",
            "1688/1688 - 12s - 7ms/step - categorical_accuracy: 0.9360 - loss: 0.2082 - val_categorical_accuracy: 0.9838 - val_loss: 0.0550\n",
            "Epoch 2/10\n",
            "1688/1688 - 13s - 8ms/step - categorical_accuracy: 0.9808 - loss: 0.0638 - val_categorical_accuracy: 0.9883 - val_loss: 0.0430\n",
            "Epoch 3/10\n",
            "1688/1688 - 4s - 3ms/step - categorical_accuracy: 0.9854 - loss: 0.0475 - val_categorical_accuracy: 0.9885 - val_loss: 0.0421\n",
            "Epoch 4/10\n",
            "1688/1688 - 3s - 2ms/step - categorical_accuracy: 0.9879 - loss: 0.0387 - val_categorical_accuracy: 0.9913 - val_loss: 0.0331\n",
            "Epoch 5/10\n",
            "1688/1688 - 4s - 2ms/step - categorical_accuracy: 0.9905 - loss: 0.0311 - val_categorical_accuracy: 0.9890 - val_loss: 0.0423\n",
            "Epoch 6/10\n",
            "1688/1688 - 3s - 2ms/step - categorical_accuracy: 0.9919 - loss: 0.0259 - val_categorical_accuracy: 0.9913 - val_loss: 0.0354\n",
            "Epoch 7/10\n",
            "1688/1688 - 5s - 3ms/step - categorical_accuracy: 0.9925 - loss: 0.0232 - val_categorical_accuracy: 0.9913 - val_loss: 0.0333\n",
            "Epoch 8/10\n",
            "1688/1688 - 4s - 2ms/step - categorical_accuracy: 0.9942 - loss: 0.0190 - val_categorical_accuracy: 0.9932 - val_loss: 0.0312\n",
            "Epoch 9/10\n",
            "1688/1688 - 4s - 3ms/step - categorical_accuracy: 0.9941 - loss: 0.0183 - val_categorical_accuracy: 0.9927 - val_loss: 0.0298\n",
            "Epoch 10/10\n",
            "1688/1688 - 5s - 3ms/step - categorical_accuracy: 0.9952 - loss: 0.0147 - val_categorical_accuracy: 0.9918 - val_loss: 0.0340\n",
            "layer: 1\n",
            "Test Loss: 0.0302\n",
            "Test Accuracy: 0.9912\n",
            "Epoch 1/10\n",
            "1688/1688 - 9s - 5ms/step - categorical_accuracy: 0.9951 - loss: 0.0162 - val_categorical_accuracy: 0.9918 - val_loss: 0.0390\n",
            "Epoch 2/10\n",
            "1688/1688 - 4s - 2ms/step - categorical_accuracy: 0.9954 - loss: 0.0142 - val_categorical_accuracy: 0.9923 - val_loss: 0.0375\n",
            "Epoch 3/10\n",
            "1688/1688 - 5s - 3ms/step - categorical_accuracy: 0.9962 - loss: 0.0124 - val_categorical_accuracy: 0.9933 - val_loss: 0.0357\n",
            "Epoch 4/10\n",
            "1688/1688 - 3s - 2ms/step - categorical_accuracy: 0.9963 - loss: 0.0109 - val_categorical_accuracy: 0.9932 - val_loss: 0.0423\n",
            "Epoch 5/10\n",
            "1688/1688 - 6s - 3ms/step - categorical_accuracy: 0.9967 - loss: 0.0113 - val_categorical_accuracy: 0.9925 - val_loss: 0.0421\n",
            "Epoch 6/10\n",
            "1688/1688 - 4s - 3ms/step - categorical_accuracy: 0.9966 - loss: 0.0106 - val_categorical_accuracy: 0.9905 - val_loss: 0.0499\n",
            "Epoch 7/10\n",
            "1688/1688 - 5s - 3ms/step - categorical_accuracy: 0.9965 - loss: 0.0108 - val_categorical_accuracy: 0.9907 - val_loss: 0.0484\n",
            "Epoch 8/10\n",
            "1688/1688 - 5s - 3ms/step - categorical_accuracy: 0.9968 - loss: 0.0099 - val_categorical_accuracy: 0.9928 - val_loss: 0.0357\n",
            "Epoch 9/10\n",
            "1688/1688 - 3s - 2ms/step - categorical_accuracy: 0.9975 - loss: 0.0077 - val_categorical_accuracy: 0.9937 - val_loss: 0.0450\n",
            "Epoch 10/10\n",
            "1688/1688 - 6s - 4ms/step - categorical_accuracy: 0.9973 - loss: 0.0099 - val_categorical_accuracy: 0.9932 - val_loss: 0.0457\n",
            "layer: 2\n",
            "Test Loss: 0.0431\n",
            "Test Accuracy: 0.9914\n",
            "Epoch 1/10\n",
            "1688/1688 - 7s - 4ms/step - categorical_accuracy: 0.9981 - loss: 0.0064 - val_categorical_accuracy: 0.9935 - val_loss: 0.0517\n",
            "Epoch 2/10\n",
            "1688/1688 - 4s - 2ms/step - categorical_accuracy: 0.9983 - loss: 0.0051 - val_categorical_accuracy: 0.9925 - val_loss: 0.0530\n",
            "Epoch 3/10\n",
            "1688/1688 - 4s - 3ms/step - categorical_accuracy: 0.9982 - loss: 0.0053 - val_categorical_accuracy: 0.9923 - val_loss: 0.0561\n",
            "Epoch 4/10\n",
            "1688/1688 - 5s - 3ms/step - categorical_accuracy: 0.9985 - loss: 0.0053 - val_categorical_accuracy: 0.9923 - val_loss: 0.0545\n",
            "Epoch 5/10\n",
            "1688/1688 - 5s - 3ms/step - categorical_accuracy: 0.9983 - loss: 0.0059 - val_categorical_accuracy: 0.9920 - val_loss: 0.0686\n",
            "Epoch 6/10\n",
            "1688/1688 - 5s - 3ms/step - categorical_accuracy: 0.9982 - loss: 0.0055 - val_categorical_accuracy: 0.9918 - val_loss: 0.0742\n",
            "Epoch 7/10\n",
            "1688/1688 - 6s - 3ms/step - categorical_accuracy: 0.9987 - loss: 0.0040 - val_categorical_accuracy: 0.9915 - val_loss: 0.0578\n",
            "Epoch 8/10\n",
            "1688/1688 - 5s - 3ms/step - categorical_accuracy: 0.9985 - loss: 0.0049 - val_categorical_accuracy: 0.9920 - val_loss: 0.0543\n",
            "Epoch 9/10\n",
            "1688/1688 - 6s - 4ms/step - categorical_accuracy: 0.9990 - loss: 0.0029 - val_categorical_accuracy: 0.9920 - val_loss: 0.0737\n",
            "Epoch 10/10\n",
            "1688/1688 - 3s - 2ms/step - categorical_accuracy: 0.9988 - loss: 0.0044 - val_categorical_accuracy: 0.9913 - val_loss: 0.0683\n",
            "layer: 3\n",
            "Test Loss: 0.0556\n",
            "Test Accuracy: 0.9924\n",
            "Epoch 1/10\n",
            "1688/1688 - 8s - 5ms/step - categorical_accuracy: 0.9990 - loss: 0.0039 - val_categorical_accuracy: 0.9927 - val_loss: 0.0830\n",
            "Epoch 2/10\n",
            "1688/1688 - 6s - 4ms/step - categorical_accuracy: 0.9989 - loss: 0.0036 - val_categorical_accuracy: 0.9925 - val_loss: 0.0746\n",
            "Epoch 3/10\n",
            "1688/1688 - 3s - 2ms/step - categorical_accuracy: 0.9987 - loss: 0.0050 - val_categorical_accuracy: 0.9930 - val_loss: 0.0688\n",
            "Epoch 4/10\n",
            "1688/1688 - 5s - 3ms/step - categorical_accuracy: 0.9989 - loss: 0.0036 - val_categorical_accuracy: 0.9925 - val_loss: 0.0731\n",
            "Epoch 5/10\n",
            "1688/1688 - 3s - 2ms/step - categorical_accuracy: 0.9988 - loss: 0.0044 - val_categorical_accuracy: 0.9938 - val_loss: 0.0673\n",
            "Epoch 6/10\n",
            "1688/1688 - 6s - 3ms/step - categorical_accuracy: 0.9988 - loss: 0.0040 - val_categorical_accuracy: 0.9922 - val_loss: 0.0831\n",
            "Epoch 7/10\n",
            "1688/1688 - 5s - 3ms/step - categorical_accuracy: 0.9987 - loss: 0.0044 - val_categorical_accuracy: 0.9932 - val_loss: 0.0675\n",
            "Epoch 8/10\n",
            "1688/1688 - 5s - 3ms/step - categorical_accuracy: 0.9988 - loss: 0.0052 - val_categorical_accuracy: 0.9942 - val_loss: 0.0650\n",
            "Epoch 9/10\n",
            "1688/1688 - 4s - 2ms/step - categorical_accuracy: 0.9986 - loss: 0.0049 - val_categorical_accuracy: 0.9933 - val_loss: 0.0681\n",
            "Epoch 10/10\n",
            "1688/1688 - 3s - 2ms/step - categorical_accuracy: 0.9991 - loss: 0.0035 - val_categorical_accuracy: 0.9918 - val_loss: 0.0760\n",
            "layer: 4\n",
            "Test Loss: 0.0661\n",
            "Test Accuracy: 0.9914\n",
            "Epoch 1/10\n",
            "1688/1688 - 8s - 5ms/step - categorical_accuracy: 0.9988 - loss: 0.0047 - val_categorical_accuracy: 0.9922 - val_loss: 0.0833\n",
            "Epoch 2/10\n",
            "1688/1688 - 3s - 2ms/step - categorical_accuracy: 0.9990 - loss: 0.0033 - val_categorical_accuracy: 0.9923 - val_loss: 0.0786\n",
            "Epoch 3/10\n",
            "1688/1688 - 3s - 2ms/step - categorical_accuracy: 0.9985 - loss: 0.0059 - val_categorical_accuracy: 0.9932 - val_loss: 0.0812\n",
            "Epoch 4/10\n",
            "1688/1688 - 4s - 2ms/step - categorical_accuracy: 0.9987 - loss: 0.0048 - val_categorical_accuracy: 0.9928 - val_loss: 0.0807\n",
            "Epoch 5/10\n",
            "1688/1688 - 4s - 3ms/step - categorical_accuracy: 0.9990 - loss: 0.0032 - val_categorical_accuracy: 0.9923 - val_loss: 0.0828\n",
            "Epoch 6/10\n",
            "1688/1688 - 5s - 3ms/step - categorical_accuracy: 0.9990 - loss: 0.0036 - val_categorical_accuracy: 0.9928 - val_loss: 0.0846\n",
            "Epoch 7/10\n",
            "1688/1688 - 5s - 3ms/step - categorical_accuracy: 0.9990 - loss: 0.0036 - val_categorical_accuracy: 0.9928 - val_loss: 0.0871\n",
            "Epoch 8/10\n",
            "1688/1688 - 3s - 2ms/step - categorical_accuracy: 0.9990 - loss: 0.0037 - val_categorical_accuracy: 0.9932 - val_loss: 0.0755\n",
            "Epoch 9/10\n",
            "1688/1688 - 3s - 2ms/step - categorical_accuracy: 0.9993 - loss: 0.0028 - val_categorical_accuracy: 0.9935 - val_loss: 0.0787\n",
            "Epoch 10/10\n",
            "1688/1688 - 5s - 3ms/step - categorical_accuracy: 0.9991 - loss: 0.0042 - val_categorical_accuracy: 0.9925 - val_loss: 0.0887\n",
            "layer: 5\n",
            "Test Loss: 0.0811\n",
            "Test Accuracy: 0.9915\n",
            "Epoch 1/10\n",
            "1688/1688 - 8s - 5ms/step - categorical_accuracy: 0.9992 - loss: 0.0030 - val_categorical_accuracy: 0.9927 - val_loss: 0.0865\n",
            "Epoch 2/10\n",
            "1688/1688 - 3s - 2ms/step - categorical_accuracy: 0.9994 - loss: 0.0022 - val_categorical_accuracy: 0.9930 - val_loss: 0.0849\n",
            "Epoch 3/10\n",
            "1688/1688 - 5s - 3ms/step - categorical_accuracy: 0.9995 - loss: 0.0014 - val_categorical_accuracy: 0.9930 - val_loss: 0.0882\n",
            "Epoch 4/10\n",
            "1688/1688 - 4s - 2ms/step - categorical_accuracy: 0.9995 - loss: 0.0017 - val_categorical_accuracy: 0.9925 - val_loss: 0.0879\n",
            "Epoch 5/10\n",
            "1688/1688 - 3s - 2ms/step - categorical_accuracy: 0.9995 - loss: 0.0015 - val_categorical_accuracy: 0.9937 - val_loss: 0.0778\n",
            "Epoch 6/10\n",
            "1688/1688 - 3s - 2ms/step - categorical_accuracy: 0.9996 - loss: 0.0012 - val_categorical_accuracy: 0.9938 - val_loss: 0.0859\n",
            "Epoch 7/10\n",
            "1688/1688 - 5s - 3ms/step - categorical_accuracy: 0.9996 - loss: 0.0012 - val_categorical_accuracy: 0.9928 - val_loss: 0.0904\n",
            "Epoch 8/10\n",
            "1688/1688 - 5s - 3ms/step - categorical_accuracy: 0.9996 - loss: 0.0015 - val_categorical_accuracy: 0.9930 - val_loss: 0.0893\n",
            "Epoch 9/10\n",
            "1688/1688 - 5s - 3ms/step - categorical_accuracy: 0.9997 - loss: 0.0013 - val_categorical_accuracy: 0.9930 - val_loss: 0.0925\n",
            "Epoch 10/10\n",
            "1688/1688 - 5s - 3ms/step - categorical_accuracy: 0.9995 - loss: 0.0017 - val_categorical_accuracy: 0.9930 - val_loss: 0.0950\n",
            "layer: 6\n",
            "Test Loss: 0.0788\n",
            "Test Accuracy: 0.9929\n",
            "Epoch 1/10\n",
            "1688/1688 - 7s - 4ms/step - categorical_accuracy: 0.9995 - loss: 0.0016 - val_categorical_accuracy: 0.9930 - val_loss: 0.0954\n",
            "Epoch 2/10\n",
            "1688/1688 - 4s - 2ms/step - categorical_accuracy: 0.9996 - loss: 0.0011 - val_categorical_accuracy: 0.9928 - val_loss: 0.1100\n",
            "Epoch 3/10\n",
            "1688/1688 - 3s - 2ms/step - categorical_accuracy: 0.9996 - loss: 0.0018 - val_categorical_accuracy: 0.9928 - val_loss: 0.1066\n",
            "Epoch 4/10\n",
            "1688/1688 - 5s - 3ms/step - categorical_accuracy: 0.9994 - loss: 0.0019 - val_categorical_accuracy: 0.9927 - val_loss: 0.1042\n",
            "Epoch 5/10\n",
            "1688/1688 - 4s - 2ms/step - categorical_accuracy: 0.9997 - loss: 0.0011 - val_categorical_accuracy: 0.9935 - val_loss: 0.1017\n",
            "Epoch 6/10\n",
            "1688/1688 - 4s - 3ms/step - categorical_accuracy: 0.9995 - loss: 0.0017 - val_categorical_accuracy: 0.9928 - val_loss: 0.1038\n",
            "Epoch 7/10\n",
            "1688/1688 - 3s - 2ms/step - categorical_accuracy: 0.9997 - loss: 9.1828e-04 - val_categorical_accuracy: 0.9928 - val_loss: 0.0984\n",
            "Epoch 8/10\n",
            "1688/1688 - 6s - 4ms/step - categorical_accuracy: 0.9997 - loss: 0.0013 - val_categorical_accuracy: 0.9930 - val_loss: 0.1062\n",
            "Epoch 9/10\n",
            "1688/1688 - 4s - 3ms/step - categorical_accuracy: 0.9996 - loss: 0.0016 - val_categorical_accuracy: 0.9930 - val_loss: 0.0887\n",
            "Epoch 10/10\n",
            "1688/1688 - 5s - 3ms/step - categorical_accuracy: 0.9995 - loss: 0.0016 - val_categorical_accuracy: 0.9925 - val_loss: 0.0949\n",
            "layer: 7\n",
            "Test Loss: 0.0788\n",
            "Test Accuracy: 0.9931\n",
            "Epoch 1/10\n",
            "1688/1688 - 6s - 4ms/step - categorical_accuracy: 0.9996 - loss: 0.0015 - val_categorical_accuracy: 0.9922 - val_loss: 0.0997\n",
            "Epoch 2/10\n",
            "1688/1688 - 4s - 2ms/step - categorical_accuracy: 0.9997 - loss: 0.0012 - val_categorical_accuracy: 0.9925 - val_loss: 0.0980\n",
            "Epoch 3/10\n",
            "1688/1688 - 3s - 2ms/step - categorical_accuracy: 0.9996 - loss: 0.0017 - val_categorical_accuracy: 0.9928 - val_loss: 0.1037\n",
            "Epoch 4/10\n",
            "1688/1688 - 5s - 3ms/step - categorical_accuracy: 0.9998 - loss: 7.5404e-04 - val_categorical_accuracy: 0.9923 - val_loss: 0.1040\n",
            "Epoch 5/10\n",
            "1688/1688 - 6s - 3ms/step - categorical_accuracy: 0.9997 - loss: 0.0011 - val_categorical_accuracy: 0.9927 - val_loss: 0.1014\n",
            "Epoch 6/10\n",
            "1688/1688 - 4s - 3ms/step - categorical_accuracy: 0.9998 - loss: 4.5108e-04 - val_categorical_accuracy: 0.9925 - val_loss: 0.1023\n",
            "Epoch 7/10\n",
            "1688/1688 - 3s - 2ms/step - categorical_accuracy: 0.9999 - loss: 5.1278e-04 - val_categorical_accuracy: 0.9928 - val_loss: 0.1004\n",
            "Epoch 8/10\n",
            "1688/1688 - 6s - 3ms/step - categorical_accuracy: 0.9996 - loss: 0.0014 - val_categorical_accuracy: 0.9932 - val_loss: 0.1001\n",
            "Epoch 9/10\n",
            "1688/1688 - 4s - 3ms/step - categorical_accuracy: 0.9998 - loss: 6.0530e-04 - val_categorical_accuracy: 0.9932 - val_loss: 0.0977\n",
            "Epoch 10/10\n",
            "1688/1688 - 3s - 2ms/step - categorical_accuracy: 0.9998 - loss: 8.3514e-04 - val_categorical_accuracy: 0.9927 - val_loss: 0.1027\n",
            "layer: 8\n",
            "Test Loss: 0.0813\n",
            "Test Accuracy: 0.9931\n",
            "Epoch 1/10\n",
            "1688/1688 - 7s - 4ms/step - categorical_accuracy: 0.9997 - loss: 8.4192e-04 - val_categorical_accuracy: 0.9928 - val_loss: 0.1029\n",
            "Epoch 2/10\n",
            "1688/1688 - 7s - 4ms/step - categorical_accuracy: 0.9997 - loss: 0.0014 - val_categorical_accuracy: 0.9932 - val_loss: 0.1007\n",
            "Epoch 3/10\n",
            "1688/1688 - 5s - 3ms/step - categorical_accuracy: 0.9997 - loss: 7.1347e-04 - val_categorical_accuracy: 0.9930 - val_loss: 0.1037\n",
            "Epoch 4/10\n",
            "1688/1688 - 5s - 3ms/step - categorical_accuracy: 0.9998 - loss: 6.2213e-04 - val_categorical_accuracy: 0.9927 - val_loss: 0.1063\n",
            "Epoch 5/10\n",
            "1688/1688 - 4s - 2ms/step - categorical_accuracy: 0.9998 - loss: 0.0010 - val_categorical_accuracy: 0.9933 - val_loss: 0.1028\n",
            "Epoch 6/10\n",
            "1688/1688 - 3s - 2ms/step - categorical_accuracy: 0.9997 - loss: 0.0018 - val_categorical_accuracy: 0.9933 - val_loss: 0.1060\n",
            "Epoch 7/10\n",
            "1688/1688 - 3s - 2ms/step - categorical_accuracy: 0.9998 - loss: 5.4141e-04 - val_categorical_accuracy: 0.9933 - val_loss: 0.1019\n",
            "Epoch 8/10\n",
            "1688/1688 - 3s - 2ms/step - categorical_accuracy: 0.9996 - loss: 0.0014 - val_categorical_accuracy: 0.9932 - val_loss: 0.1036\n",
            "Epoch 9/10\n",
            "1688/1688 - 4s - 2ms/step - categorical_accuracy: 0.9997 - loss: 0.0010 - val_categorical_accuracy: 0.9933 - val_loss: 0.1050\n",
            "Epoch 10/10\n",
            "1688/1688 - 4s - 3ms/step - categorical_accuracy: 0.9997 - loss: 9.7101e-04 - val_categorical_accuracy: 0.9933 - val_loss: 0.1010\n",
            "layer: 9\n",
            "Test Loss: 0.0836\n",
            "Test Accuracy: 0.9929\n",
            "Test Loss: 0.0836\n",
            "Test Accuracy: 0.9929\n"
          ]
        }
      ]
    },
    {
      "cell_type": "markdown",
      "source": [],
      "metadata": {
        "id": "ziR5xCM7AFyS"
      }
    },
    {
      "cell_type": "markdown",
      "metadata": {
        "id": "AEj3bj0gbrz2"
      },
      "source": [
        "# **Visualizando a rede criada**"
      ]
    },
    {
      "cell_type": "code",
      "execution_count": null,
      "metadata": {
        "colab": {
          "base_uri": "https://localhost:8080/",
          "height": 43
        },
        "id": "FiNrWg9Mbx5v",
        "outputId": "026f2449-7ad5-4922-e6f6-b3a9e6608f8f"
      },
      "outputs": [
        {
          "output_type": "execute_result",
          "data": {
            "image/png": "[encoded data removed]",
            "text/plain": [
              "<IPython.core.display.Image object>"
            ]
          },
          "metadata": {},
          "execution_count": 6
        }
      ],
      "source": [
        "#model=create_model()\n",
        "from tensorflow.keras.utils import plot_model\n",
        "\n",
        "plot_model(\n",
        "    model,\n",
        "    show_shapes=True,\n",
        "    show_layer_names=True,\n",
        "    rankdir=\"LR\",\n",
        "    expand_nested=True,\n",
        "    dpi=96\n",
        ")"
      ]
    },
    {
      "cell_type": "code",
      "execution_count": null,
      "metadata": {
        "colab": {
          "base_uri": "https://localhost:8080/",
          "height": 475
        },
        "id": "okP0Babl6fcE",
        "outputId": "c12c6908-80db-4f81-ee03-f7938f334f94"
      },
      "outputs": [
        {
          "output_type": "display_data",
          "data": {
            "text/plain": [
              "\u001b[1mModel: \"sequential_1\"\u001b[0m\n"
            ],
            "text/html": [
              "<pre style=\"white-space:pre;overflow-x:auto;line-height:normal;font-family:Menlo,'DejaVu Sans Mono',consolas,'Courier New',monospace\"><span style=\"font-weight: bold\">Model: \"sequential_1\"</span>\n",
              "</pre>\n"
            ]
          },
          "metadata": {}
        },
        {
          "output_type": "display_data",
          "data": {
            "text/plain": [
              "┏━━━━━━━━━━━━━━━━━━━━━━━━━━━━━━━━━━━━━━┳━━━━━━━━━━━━━━━━━━━━━━━━━━━━━┳━━━━━━━━━━━━━━━━━┓\n",
              "┃\u001b[1m \u001b[0m\u001b[1mLayer (type)                        \u001b[0m\u001b[1m \u001b[0m┃\u001b[1m \u001b[0m\u001b[1mOutput Shape               \u001b[0m\u001b[1m \u001b[0m┃\u001b[1m \u001b[0m\u001b[1m        Param #\u001b[0m\u001b[1m \u001b[0m┃\n",
              "┡━━━━━━━━━━━━━━━━━━━━━━━━━━━━━━━━━━━━━━╇━━━━━━━━━━━━━━━━━━━━━━━━━━━━━╇━━━━━━━━━━━━━━━━━┩\n",
              "│ conv2d (\u001b[38;5;33mConv2D\u001b[0m)                      │ (\u001b[38;5;45mNone\u001b[0m, \u001b[38;5;34m26\u001b[0m, \u001b[38;5;34m26\u001b[0m, \u001b[38;5;34m32\u001b[0m)          │             \u001b[38;5;34m320\u001b[0m │\n",
              "├──────────────────────────────────────┼─────────────────────────────┼─────────────────┤\n",
              "│ max_pooling2d (\u001b[38;5;33mMaxPooling2D\u001b[0m)         │ (\u001b[38;5;45mNone\u001b[0m, \u001b[38;5;34m13\u001b[0m, \u001b[38;5;34m13\u001b[0m, \u001b[38;5;34m32\u001b[0m)          │               \u001b[38;5;34m0\u001b[0m │\n",
              "├──────────────────────────────────────┼─────────────────────────────┼─────────────────┤\n",
              "│ conv2d_1 (\u001b[38;5;33mConv2D\u001b[0m)                    │ (\u001b[38;5;45mNone\u001b[0m, \u001b[38;5;34m11\u001b[0m, \u001b[38;5;34m11\u001b[0m, \u001b[38;5;34m32\u001b[0m)          │           \u001b[38;5;34m9,248\u001b[0m │\n",
              "├──────────────────────────────────────┼─────────────────────────────┼─────────────────┤\n",
              "│ max_pooling2d_1 (\u001b[38;5;33mMaxPooling2D\u001b[0m)       │ (\u001b[38;5;45mNone\u001b[0m, \u001b[38;5;34m5\u001b[0m, \u001b[38;5;34m5\u001b[0m, \u001b[38;5;34m32\u001b[0m)            │               \u001b[38;5;34m0\u001b[0m │\n",
              "├──────────────────────────────────────┼─────────────────────────────┼─────────────────┤\n",
              "│ flatten_1 (\u001b[38;5;33mFlatten\u001b[0m)                  │ (\u001b[38;5;45mNone\u001b[0m, \u001b[38;5;34m800\u001b[0m)                 │               \u001b[38;5;34m0\u001b[0m │\n",
              "├──────────────────────────────────────┼─────────────────────────────┼─────────────────┤\n",
              "│ dense_1 (\u001b[38;5;33mDense\u001b[0m)                      │ (\u001b[38;5;45mNone\u001b[0m, \u001b[38;5;34m128\u001b[0m)                 │         \u001b[38;5;34m102,528\u001b[0m │\n",
              "├──────────────────────────────────────┼─────────────────────────────┼─────────────────┤\n",
              "│ dropout (\u001b[38;5;33mDropout\u001b[0m)                    │ (\u001b[38;5;45mNone\u001b[0m, \u001b[38;5;34m128\u001b[0m)                 │               \u001b[38;5;34m0\u001b[0m │\n",
              "├──────────────────────────────────────┼─────────────────────────────┼─────────────────┤\n",
              "│ dense_2 (\u001b[38;5;33mDense\u001b[0m)                      │ (\u001b[38;5;45mNone\u001b[0m, \u001b[38;5;34m128\u001b[0m)                 │          \u001b[38;5;34m16,512\u001b[0m │\n",
              "├──────────────────────────────────────┼─────────────────────────────┼─────────────────┤\n",
              "│ dropout_1 (\u001b[38;5;33mDropout\u001b[0m)                  │ (\u001b[38;5;45mNone\u001b[0m, \u001b[38;5;34m128\u001b[0m)                 │               \u001b[38;5;34m0\u001b[0m │\n",
              "├──────────────────────────────────────┼─────────────────────────────┼─────────────────┤\n",
              "│ dense_3 (\u001b[38;5;33mDense\u001b[0m)                      │ (\u001b[38;5;45mNone\u001b[0m, \u001b[38;5;34m10\u001b[0m)                  │           \u001b[38;5;34m1,290\u001b[0m │\n",
              "└──────────────────────────────────────┴─────────────────────────────┴─────────────────┘\n"
            ],
            "text/html": [
              "<pre style=\"white-space:pre;overflow-x:auto;line-height:normal;font-family:Menlo,'DejaVu Sans Mono',consolas,'Courier New',monospace\">┏━━━━━━━━━━━━━━━━━━━━━━━━━━━━━━━━━━━━━━┳━━━━━━━━━━━━━━━━━━━━━━━━━━━━━┳━━━━━━━━━━━━━━━━━┓\n",
              "┃<span style=\"font-weight: bold\"> Layer (type)                         </span>┃<span style=\"font-weight: bold\"> Output Shape                </span>┃<span style=\"font-weight: bold\">         Param # </span>┃\n",
              "┡━━━━━━━━━━━━━━━━━━━━━━━━━━━━━━━━━━━━━━╇━━━━━━━━━━━━━━━━━━━━━━━━━━━━━╇━━━━━━━━━━━━━━━━━┩\n",
              "│ conv2d (<span style=\"color: #0087ff; text-decoration-color: #0087ff\">Conv2D</span>)                      │ (<span style=\"color: #00d7ff; text-decoration-color: #00d7ff\">None</span>, <span style=\"color: #00af00; text-decoration-color: #00af00\">26</span>, <span style=\"color: #00af00; text-decoration-color: #00af00\">26</span>, <span style=\"color: #00af00; text-decoration-color: #00af00\">32</span>)          │             <span style=\"color: #00af00; text-decoration-color: #00af00\">320</span> │\n",
              "├──────────────────────────────────────┼─────────────────────────────┼─────────────────┤\n",
              "│ max_pooling2d (<span style=\"color: #0087ff; text-decoration-color: #0087ff\">MaxPooling2D</span>)         │ (<span style=\"color: #00d7ff; text-decoration-color: #00d7ff\">None</span>, <span style=\"color: #00af00; text-decoration-color: #00af00\">13</span>, <span style=\"color: #00af00; text-decoration-color: #00af00\">13</span>, <span style=\"color: #00af00; text-decoration-color: #00af00\">32</span>)          │               <span style=\"color: #00af00; text-decoration-color: #00af00\">0</span> │\n",
              "├──────────────────────────────────────┼─────────────────────────────┼─────────────────┤\n",
              "│ conv2d_1 (<span style=\"color: #0087ff; text-decoration-color: #0087ff\">Conv2D</span>)                    │ (<span style=\"color: #00d7ff; text-decoration-color: #00d7ff\">None</span>, <span style=\"color: #00af00; text-decoration-color: #00af00\">11</span>, <span style=\"color: #00af00; text-decoration-color: #00af00\">11</span>, <span style=\"color: #00af00; text-decoration-color: #00af00\">32</span>)          │           <span style=\"color: #00af00; text-decoration-color: #00af00\">9,248</span> │\n",
              "├──────────────────────────────────────┼─────────────────────────────┼─────────────────┤\n",
              "│ max_pooling2d_1 (<span style=\"color: #0087ff; text-decoration-color: #0087ff\">MaxPooling2D</span>)       │ (<span style=\"color: #00d7ff; text-decoration-color: #00d7ff\">None</span>, <span style=\"color: #00af00; text-decoration-color: #00af00\">5</span>, <span style=\"color: #00af00; text-decoration-color: #00af00\">5</span>, <span style=\"color: #00af00; text-decoration-color: #00af00\">32</span>)            │               <span style=\"color: #00af00; text-decoration-color: #00af00\">0</span> │\n",
              "├──────────────────────────────────────┼─────────────────────────────┼─────────────────┤\n",
              "│ flatten_1 (<span style=\"color: #0087ff; text-decoration-color: #0087ff\">Flatten</span>)                  │ (<span style=\"color: #00d7ff; text-decoration-color: #00d7ff\">None</span>, <span style=\"color: #00af00; text-decoration-color: #00af00\">800</span>)                 │               <span style=\"color: #00af00; text-decoration-color: #00af00\">0</span> │\n",
              "├──────────────────────────────────────┼─────────────────────────────┼─────────────────┤\n",
              "│ dense_1 (<span style=\"color: #0087ff; text-decoration-color: #0087ff\">Dense</span>)                      │ (<span style=\"color: #00d7ff; text-decoration-color: #00d7ff\">None</span>, <span style=\"color: #00af00; text-decoration-color: #00af00\">128</span>)                 │         <span style=\"color: #00af00; text-decoration-color: #00af00\">102,528</span> │\n",
              "├──────────────────────────────────────┼─────────────────────────────┼─────────────────┤\n",
              "│ dropout (<span style=\"color: #0087ff; text-decoration-color: #0087ff\">Dropout</span>)                    │ (<span style=\"color: #00d7ff; text-decoration-color: #00d7ff\">None</span>, <span style=\"color: #00af00; text-decoration-color: #00af00\">128</span>)                 │               <span style=\"color: #00af00; text-decoration-color: #00af00\">0</span> │\n",
              "├──────────────────────────────────────┼─────────────────────────────┼─────────────────┤\n",
              "│ dense_2 (<span style=\"color: #0087ff; text-decoration-color: #0087ff\">Dense</span>)                      │ (<span style=\"color: #00d7ff; text-decoration-color: #00d7ff\">None</span>, <span style=\"color: #00af00; text-decoration-color: #00af00\">128</span>)                 │          <span style=\"color: #00af00; text-decoration-color: #00af00\">16,512</span> │\n",
              "├──────────────────────────────────────┼─────────────────────────────┼─────────────────┤\n",
              "│ dropout_1 (<span style=\"color: #0087ff; text-decoration-color: #0087ff\">Dropout</span>)                  │ (<span style=\"color: #00d7ff; text-decoration-color: #00d7ff\">None</span>, <span style=\"color: #00af00; text-decoration-color: #00af00\">128</span>)                 │               <span style=\"color: #00af00; text-decoration-color: #00af00\">0</span> │\n",
              "├──────────────────────────────────────┼─────────────────────────────┼─────────────────┤\n",
              "│ dense_3 (<span style=\"color: #0087ff; text-decoration-color: #0087ff\">Dense</span>)                      │ (<span style=\"color: #00d7ff; text-decoration-color: #00d7ff\">None</span>, <span style=\"color: #00af00; text-decoration-color: #00af00\">10</span>)                  │           <span style=\"color: #00af00; text-decoration-color: #00af00\">1,290</span> │\n",
              "└──────────────────────────────────────┴─────────────────────────────┴─────────────────┘\n",
              "</pre>\n"
            ]
          },
          "metadata": {}
        },
        {
          "output_type": "display_data",
          "data": {
            "text/plain": [
              "\u001b[1m Total params: \u001b[0m\u001b[38;5;34m132,480\u001b[0m (517.50 KB)\n"
            ],
            "text/html": [
              "<pre style=\"white-space:pre;overflow-x:auto;line-height:normal;font-family:Menlo,'DejaVu Sans Mono',consolas,'Courier New',monospace\"><span style=\"font-weight: bold\"> Total params: </span><span style=\"color: #00af00; text-decoration-color: #00af00\">132,480</span> (517.50 KB)\n",
              "</pre>\n"
            ]
          },
          "metadata": {}
        },
        {
          "output_type": "display_data",
          "data": {
            "text/plain": [
              "\u001b[1m Trainable params: \u001b[0m\u001b[38;5;34m1,290\u001b[0m (5.04 KB)\n"
            ],
            "text/html": [
              "<pre style=\"white-space:pre;overflow-x:auto;line-height:normal;font-family:Menlo,'DejaVu Sans Mono',consolas,'Courier New',monospace\"><span style=\"font-weight: bold\"> Trainable params: </span><span style=\"color: #00af00; text-decoration-color: #00af00\">1,290</span> (5.04 KB)\n",
              "</pre>\n"
            ]
          },
          "metadata": {}
        },
        {
          "output_type": "display_data",
          "data": {
            "text/plain": [
              "\u001b[1m Non-trainable params: \u001b[0m\u001b[38;5;34m128,608\u001b[0m (502.38 KB)\n"
            ],
            "text/html": [
              "<pre style=\"white-space:pre;overflow-x:auto;line-height:normal;font-family:Menlo,'DejaVu Sans Mono',consolas,'Courier New',monospace\"><span style=\"font-weight: bold\"> Non-trainable params: </span><span style=\"color: #00af00; text-decoration-color: #00af00\">128,608</span> (502.38 KB)\n",
              "</pre>\n"
            ]
          },
          "metadata": {}
        },
        {
          "output_type": "display_data",
          "data": {
            "text/plain": [
              "\u001b[1m Optimizer params: \u001b[0m\u001b[38;5;34m2,582\u001b[0m (10.09 KB)\n"
            ],
            "text/html": [
              "<pre style=\"white-space:pre;overflow-x:auto;line-height:normal;font-family:Menlo,'DejaVu Sans Mono',consolas,'Courier New',monospace\"><span style=\"font-weight: bold\"> Optimizer params: </span><span style=\"color: #00af00; text-decoration-color: #00af00\">2,582</span> (10.09 KB)\n",
              "</pre>\n"
            ]
          },
          "metadata": {}
        }
      ],
      "source": [
        "model.summary()"
      ]
    },
    {
      "cell_type": "code",
      "execution_count": null,
      "metadata": {
        "id": "nyCmf-R-cBzv",
        "colab": {
          "base_uri": "https://localhost:8080/"
        },
        "outputId": "815fedd3-412b-422e-fb8e-b734095dbee0"
      },
      "outputs": [
        {
          "output_type": "stream",
          "name": "stdout",
          "text": [
            "<Conv2D name=conv2d, built=True>\n",
            "<MaxPooling2D name=max_pooling2d, built=True>\n",
            "<Conv2D name=conv2d_1, built=True>\n",
            "<MaxPooling2D name=max_pooling2d_1, built=True>\n",
            "<Flatten name=flatten_1, built=True>\n",
            "<Dense name=dense_1, built=True>\n",
            "<Dropout name=dropout, built=True>\n",
            "<Dense name=dense_2, built=True>\n",
            "<Dropout name=dropout_1, built=True>\n",
            "<Dense name=dense_3, built=True>\n",
            "Epoch 1/10\n",
            "1688/1688 - 10s - 6ms/step - categorical_accuracy: 0.9964 - loss: 0.0209 - val_categorical_accuracy: 0.9920 - val_loss: 0.0733\n",
            "Epoch 2/10\n",
            "1688/1688 - 6s - 4ms/step - categorical_accuracy: 0.9971 - loss: 0.0128 - val_categorical_accuracy: 0.9903 - val_loss: 0.0886\n",
            "Epoch 3/10\n",
            "1688/1688 - 4s - 3ms/step - categorical_accuracy: 0.9970 - loss: 0.0125 - val_categorical_accuracy: 0.9922 - val_loss: 0.0863\n",
            "Epoch 4/10\n",
            "1688/1688 - 6s - 3ms/step - categorical_accuracy: 0.9965 - loss: 0.0156 - val_categorical_accuracy: 0.9915 - val_loss: 0.0689\n",
            "Epoch 5/10\n",
            "1688/1688 - 5s - 3ms/step - categorical_accuracy: 0.9966 - loss: 0.0134 - val_categorical_accuracy: 0.9917 - val_loss: 0.0795\n",
            "Epoch 6/10\n",
            "1688/1688 - 5s - 3ms/step - categorical_accuracy: 0.9969 - loss: 0.0127 - val_categorical_accuracy: 0.9927 - val_loss: 0.0615\n",
            "Epoch 7/10\n",
            "1688/1688 - 4s - 3ms/step - categorical_accuracy: 0.9971 - loss: 0.0119 - val_categorical_accuracy: 0.9920 - val_loss: 0.0758\n",
            "Epoch 8/10\n",
            "1688/1688 - 4s - 3ms/step - categorical_accuracy: 0.9980 - loss: 0.0084 - val_categorical_accuracy: 0.9913 - val_loss: 0.0768\n",
            "Epoch 9/10\n",
            "1688/1688 - 5s - 3ms/step - categorical_accuracy: 0.9964 - loss: 0.0149 - val_categorical_accuracy: 0.9932 - val_loss: 0.0601\n",
            "Epoch 10/10\n",
            "1688/1688 - 5s - 3ms/step - categorical_accuracy: 0.9976 - loss: 0.0096 - val_categorical_accuracy: 0.9910 - val_loss: 0.0682\n",
            "Tempo de execução: 565.31 segundos\n"
          ]
        }
      ],
      "source": [
        "# Unreeze all layers\n",
        "for layer in model.layers:\n",
        "  print(layer)\n",
        "  layer.trainable = True\n",
        "\n",
        "# Compile the model\n",
        "model.compile('Adam','categorical_crossentropy', metrics=['categorical_accuracy'])\n",
        "\n",
        "# Train the model\n",
        "history = model.fit(X_train, y_train, validation_split=.1, epochs=10, verbose=2)\n",
        "\n",
        "\n",
        "# end the timer and print the time\n",
        "end_time = time.time()\n",
        "print(\"Tempo de execução: {:.2f} segundos\".format(end_time - start_time))\n"
      ]
    },
    {
      "cell_type": "markdown",
      "metadata": {
        "id": "w8XiwOwUdYTo"
      },
      "source": [
        "# **Avaliando o treinamento**"
      ]
    },
    {
      "cell_type": "code",
      "execution_count": null,
      "metadata": {
        "id": "iFxVavwKdbqr",
        "colab": {
          "base_uri": "https://localhost:8080/",
          "height": 474
        },
        "outputId": "56b1f421-29f9-46c7-cc21-405725b2f295"
      },
      "outputs": [
        {
          "output_type": "display_data",
          "data": {
            "text/plain": [
              "<Figure size 640x480 with 2 Axes>"
            ],
            "image/png": "[encoded data removed]"
          },
          "metadata": {}
        }
      ],
      "source": [
        "import matplotlib.pyplot as plt\n",
        "fig, axes = plt.subplots(2,1)\n",
        "\n",
        "#  \"Accuracy\"\n",
        "axes[0].plot(history.history['categorical_accuracy'])\n",
        "axes[0].set_title('Acurácia')\n",
        "# \"Loss\"\n",
        "axes[1].plot(history.history['loss'])\n",
        "axes[1].set_title('Erro')\n",
        "\n",
        "if 'val_loss' in history.history.keys():\n",
        "  axes[0].plot(history.history['val_categorical_accuracy'])\n",
        "  axes[1].plot(history.history['val_loss'])\n",
        "  axes[0].legend(['Treino', 'Validação'])\n",
        "  axes[1].legend(['Treino', 'Validação'])\n",
        "\n",
        "plt.xlabel('Épocas')\n",
        "plt.show()"
      ]
    },
    {
      "cell_type": "markdown",
      "metadata": {
        "id": "lvsr0UYQfJSI"
      },
      "source": [
        "# **Calculando métricas de aprendizado da rede**"
      ]
    },
    {
      "cell_type": "code",
      "execution_count": null,
      "metadata": {
        "id": "yHrjXwFgfNq_",
        "colab": {
          "base_uri": "https://localhost:8080/"
        },
        "outputId": "75001979-b384-4e56-8cf1-f1066a6561d7"
      },
      "outputs": [
        {
          "output_type": "stream",
          "name": "stdout",
          "text": [
            "\u001b[1m313/313\u001b[0m \u001b[32m━━━━━━━━━━━━━━━━━━━━\u001b[0m\u001b[37m\u001b[0m \u001b[1m1s\u001b[0m 2ms/step\n",
            "[[1.8175903e-37 2.0348348e-23 8.4230629e-23 ... 1.0000000e+00\n",
            "  2.0981986e-34 1.3864918e-26]\n",
            " [2.4346638e-30 1.9110273e-36 1.0000000e+00 ... 5.6051939e-45\n",
            "  3.9898919e-34 0.0000000e+00]\n",
            " [2.7497665e-31 1.0000000e+00 1.6737902e-23 ... 1.1631711e-22\n",
            "  3.2119614e-22 4.7435031e-34]\n",
            " ...\n",
            " [6.8893270e-38 1.5392151e-26 1.0310590e-37 ... 3.5846556e-27\n",
            "  1.8649340e-31 4.6224285e-26]\n",
            " [5.7445036e-26 2.7409270e-24 3.7658392e-28 ... 4.0213589e-24\n",
            "  4.0720005e-12 4.0510296e-16]\n",
            " [2.6810374e-27 1.6060096e-27 2.3341567e-26 ... 4.2038954e-45\n",
            "  2.2258800e-29 1.1336505e-42]]\n"
          ]
        }
      ],
      "source": [
        "#Calculando classes preditas para os valores de teste\n",
        "\n",
        "y_pred = model.predict(X_test)\n",
        "print(y_pred)"
      ]
    },
    {
      "cell_type": "code",
      "execution_count": null,
      "metadata": {
        "id": "j6sfpLahfZsu",
        "colab": {
          "base_uri": "https://localhost:8080/"
        },
        "outputId": "a0bd85db-936d-4fea-8460-a8c3e27afc4f"
      },
      "outputs": [
        {
          "output_type": "stream",
          "name": "stdout",
          "text": [
            "Classes reais:\t\t [[0. 0. 0. ... 1. 0. 0.]\n",
            " [0. 0. 1. ... 0. 0. 0.]\n",
            " [0. 1. 0. ... 0. 0. 0.]\n",
            " ...\n",
            " [0. 0. 0. ... 0. 0. 0.]\n",
            " [0. 0. 0. ... 0. 0. 0.]\n",
            " [0. 0. 0. ... 0. 0. 0.]]\n",
            "Classes preditas:\t [7 2 1 ... 4 5 6]\n"
          ]
        }
      ],
      "source": [
        "# Comparando os valores preditos com os reais\n",
        "y_pred = y_pred.argmax(axis=1)\n",
        "print('Classes reais:\\t\\t', y_test)\n",
        "print('Classes preditas:\\t', y_pred)"
      ]
    },
    {
      "cell_type": "code",
      "execution_count": null,
      "metadata": {
        "id": "tdN88A4Vfi7t",
        "colab": {
          "base_uri": "https://localhost:8080/"
        },
        "outputId": "b2313e8c-a008-48d5-c98d-d8de8eb78453"
      },
      "outputs": [
        {
          "output_type": "stream",
          "name": "stdout",
          "text": [
            "              precision    recall  f1-score   support\n",
            "\n",
            "           0     0.9899    0.9980    0.9939       980\n",
            "           1     0.9956    0.9974    0.9965      1135\n",
            "           2     0.9961    0.9903    0.9932      1032\n",
            "           3     0.9853    0.9980    0.9916      1010\n",
            "           4     0.9918    0.9908    0.9913       982\n",
            "           5     0.9899    0.9899    0.9899       892\n",
            "           6     0.9958    0.9854    0.9906       958\n",
            "           7     0.9884    0.9932    0.9908      1028\n",
            "           8     0.9928    0.9918    0.9923       974\n",
            "           9     0.9940    0.9841    0.9890      1009\n",
            "\n",
            "    accuracy                         0.9920     10000\n",
            "   macro avg     0.9920    0.9919    0.9919     10000\n",
            "weighted avg     0.9920    0.9920    0.9920     10000\n",
            "\n"
          ]
        }
      ],
      "source": [
        "from sklearn.metrics import classification_report\n",
        "\n",
        "from sklearn.preprocessing import LabelBinarizer\n",
        "print(classification_report(y_test_multilabel, y_pred, digits=4))\n"
      ]
    },
    {
      "cell_type": "markdown",
      "metadata": {
        "id": "LNv4f3RRgmOv"
      },
      "source": [
        "# **Matriz de Confusão**"
      ]
    },
    {
      "cell_type": "code",
      "execution_count": null,
      "metadata": {
        "id": "4rK5kWzIgo_k",
        "colab": {
          "base_uri": "https://localhost:8080/"
        },
        "outputId": "c9812337-49ef-4407-b30c-b524f86fc5b7"
      },
      "outputs": [
        {
          "output_type": "stream",
          "name": "stdout",
          "text": [
            "[[ 978    1    0    0    0    0    0    1    0    0]\n",
            " [   0 1132    0    2    0    1    0    0    0    0]\n",
            " [   3    1 1022    1    0    0    0    5    0    0]\n",
            " [   0    0    0 1008    0    2    0    0    0    0]\n",
            " [   0    0    0    0  973    0    3    2    1    3]\n",
            " [   0    0    0    7    0  883    1    0    1    0]\n",
            " [   4    2    1    0    1    3  944    0    3    0]\n",
            " [   0    0    2    2    0    0    0 1021    2    1]\n",
            " [   3    0    1    1    0    1    0    0  966    2]\n",
            " [   0    1    0    2    7    2    0    4    0  993]]\n"
          ]
        }
      ],
      "source": [
        "from sklearn.metrics import confusion_matrix\n",
        "cm = confusion_matrix(y_test_multilabel, y_pred)\n",
        "print(cm)"
      ]
    },
    {
      "cell_type": "code",
      "execution_count": null,
      "metadata": {
        "id": "52S0x72dg8KA",
        "colab": {
          "base_uri": "https://localhost:8080/",
          "height": 740
        },
        "outputId": "a9b620dd-1050-4024-d9af-97d0722d1a2f"
      },
      "outputs": [
        {
          "output_type": "display_data",
          "data": {
            "text/plain": [
              "<Figure size 1000x800 with 2 Axes>"
            ],
            "image/png": "[encoded data removed]"
          },
          "metadata": {}
        }
      ],
      "source": [
        "import matplotlib.pyplot as plt\n",
        "import seaborn as sns\n",
        "\n",
        "plt.figure(figsize=(10, 8))\n",
        "sns.heatmap(cm, annot=True, fmt='g', cmap='Blues', annot_kws={\"size\": 20})  # Aumenta o tamanho da fonte das anotações\n",
        "plt.xlabel('Predição', fontsize=20)\n",
        "plt.ylabel('Valor Real', fontsize=20)\n",
        "plt.title('Matriz de Confusão', fontsize=20)\n",
        "plt.show()"
      ]
    },
    {
      "cell_type": "markdown",
      "metadata": {
        "id": "oef7L_o3hhg4"
      },
      "source": [
        "# **Conclusão**"
      ]
    },
    {
      "cell_type": "markdown",
      "metadata": {
        "id": "N6bvcOC1hkZZ"
      },
      "source": [
        "Este colab apresentou um exemplo clássico de classificação de uma base de dados utilizando redes neurais MLP."
      ]
    }
  ],
  "metadata": {
    "colab": {
      "provenance": [],
      "gpuType": "T4"
    },
    "kernelspec": {
      "display_name": "Python 3",
      "name": "python3"
    },
    "language_info": {
      "name": "python"
    },
    "accelerator": "GPU"
  },
  "nbformat": 4,
  "nbformat_minor": 0
}